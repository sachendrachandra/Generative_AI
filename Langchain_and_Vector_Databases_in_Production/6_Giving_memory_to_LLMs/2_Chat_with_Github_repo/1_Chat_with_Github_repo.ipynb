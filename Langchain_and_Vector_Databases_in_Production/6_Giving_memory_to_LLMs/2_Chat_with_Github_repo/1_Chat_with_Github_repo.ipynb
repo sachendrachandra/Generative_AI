{
 "cells": [
  {
   "cell_type": "markdown",
   "id": "50290242-bcec-4387-a46a-e6a5e623a9a0",
   "metadata": {},
   "source": [
    "Processing the Repository Files:\n",
    "In order to access the files in the target repository, the script will clone the desired repository onto your computer, placing the files in a folder named \"repos\". Once we download the files, it is a matter of looping through the directory to create a list of files. It is possible to filter out specific extensions or environmental items."
   ]
  },
  {
   "cell_type": "code",
   "execution_count": 7,
   "id": "ec21af8f-8038-4326-a168-efdb2e8c756a",
   "metadata": {},
   "outputs": [
    {
     "data": {
      "text/plain": [
       "True"
      ]
     },
     "execution_count": 7,
     "metadata": {},
     "output_type": "execute_result"
    }
   ],
   "source": [
    "from dotenv import load_dotenv, dotenv_values\n",
    "import os\n",
    "\n",
    "# Load environment variables from .env file\n",
    "config = dotenv_values(\"C:/Users/SACHENDRA/Documents/Activeloop/.env\")\n",
    "load_dotenv(\"C:/Users/SACHENDRA/Documents/Activeloop/.env\")"
   ]
  },
  {
   "cell_type": "code",
   "execution_count": 4,
   "id": "fc0f455d-39e5-4056-b17a-f6b9578496c2",
   "metadata": {},
   "outputs": [
    {
     "name": "stdout",
     "output_type": "stream",
     "text": [
      "Error loading C:\\Users\\SACHENDRA\\Documents\\Activeloop\\Langchain_and_Vector_Databases_in_Production\\6_Giving_memory_to_LLMs\\rest-api-server-java-sdk\\jacoco.exec: Error loading C:\\Users\\SACHENDRA\\Documents\\Activeloop\\Langchain_and_Vector_Databases_in_Production\\6_Giving_memory_to_LLMs\\rest-api-server-java-sdk\\jacoco.exec\n",
      "Error loading C:\\Users\\SACHENDRA\\Documents\\Activeloop\\Langchain_and_Vector_Databases_in_Production\\6_Giving_memory_to_LLMs\\rest-api-server-java-sdk\\.git\\index: Error loading C:\\Users\\SACHENDRA\\Documents\\Activeloop\\Langchain_and_Vector_Databases_in_Production\\6_Giving_memory_to_LLMs\\rest-api-server-java-sdk\\.git\\index\n",
      "Error loading C:\\Users\\SACHENDRA\\Documents\\Activeloop\\Langchain_and_Vector_Databases_in_Production\\6_Giving_memory_to_LLMs\\rest-api-server-java-sdk\\.git\\objects\\pack\\pack-85516017461ed4c606743dda75f0577c7edd2ef0.idx: Error loading C:\\Users\\SACHENDRA\\Documents\\Activeloop\\Langchain_and_Vector_Databases_in_Production\\6_Giving_memory_to_LLMs\\rest-api-server-java-sdk\\.git\\objects\\pack\\pack-85516017461ed4c606743dda75f0577c7edd2ef0.idx\n",
      "Error loading C:\\Users\\SACHENDRA\\Documents\\Activeloop\\Langchain_and_Vector_Databases_in_Production\\6_Giving_memory_to_LLMs\\rest-api-server-java-sdk\\.git\\objects\\pack\\pack-85516017461ed4c606743dda75f0577c7edd2ef0.pack: Error loading C:\\Users\\SACHENDRA\\Documents\\Activeloop\\Langchain_and_Vector_Databases_in_Production\\6_Giving_memory_to_LLMs\\rest-api-server-java-sdk\\.git\\objects\\pack\\pack-85516017461ed4c606743dda75f0577c7edd2ef0.pack\n",
      "Error loading C:\\Users\\SACHENDRA\\Documents\\Activeloop\\Langchain_and_Vector_Databases_in_Production\\6_Giving_memory_to_LLMs\\rest-api-server-java-sdk\\.git\\objects\\pack\\pack-85516017461ed4c606743dda75f0577c7edd2ef0.rev: Error loading C:\\Users\\SACHENDRA\\Documents\\Activeloop\\Langchain_and_Vector_Databases_in_Production\\6_Giving_memory_to_LLMs\\rest-api-server-java-sdk\\.git\\objects\\pack\\pack-85516017461ed4c606743dda75f0577c7edd2ef0.rev\n"
     ]
    }
   ],
   "source": [
    "import os\n",
    "from langchain_community.document_loaders import TextLoader\n",
    "root_dir = r\"C:\\Users\\SACHENDRA\\Documents\\Activeloop\\Langchain_and_Vector_Databases_in_Production\\6_Giving_memory_to_LLMs\\rest-api-server-java-sdk\"\n",
    "docs = []\n",
    "file_extensions = []\n",
    "\n",
    "for dirpath, dirnames, filenames in os.walk(root_dir):\n",
    "    for file in filenames:\n",
    "        file_path = os.path.join(dirpath, file)\n",
    "        if file_extensions and os.path.splitext(file)[1] not in file_extensions:\n",
    "            continue\n",
    "        try:\n",
    "            loader = TextLoader(file_path, encoding=\"utf-8\")\n",
    "            docs.extend(loader.load_and_split())\n",
    "        except UnicodeDecodeError:\n",
    "            print(f\"UnicodeDecodeError: Skipping {file_path}\")\n",
    "            continue\n",
    "        except Exception as e:\n",
    "            print(f\"Error loading {file_path}: {e}\")"
   ]
  },
  {
   "cell_type": "code",
   "execution_count": 5,
   "id": "5c824f36-4e53-4702-ac4e-cadea2b144b4",
   "metadata": {},
   "outputs": [
    {
     "name": "stderr",
     "output_type": "stream",
     "text": [
      "Created a chunk of size 1020, which is longer than the specified 1000\n",
      "Created a chunk of size 1540, which is longer than the specified 1000\n",
      "Created a chunk of size 1597, which is longer than the specified 1000\n",
      "Created a chunk of size 1024, which is longer than the specified 1000\n",
      "Created a chunk of size 1467, which is longer than the specified 1000\n"
     ]
    }
   ],
   "source": [
    "from langchain.text_splitter import CharacterTextSplitter\n",
    "\n",
    "text_splitter = CharacterTextSplitter(chunk_size=1000, chunk_overlap=0)\n",
    "splitted_text = text_splitter.split_documents(docs)"
   ]
  },
  {
   "cell_type": "code",
   "execution_count": 8,
   "id": "0ff68efb-c8ee-4327-8478-c7f738f333ad",
   "metadata": {},
   "outputs": [
    {
     "name": "stderr",
     "output_type": "stream",
     "text": [
      "Using embedding function is deprecated and will be removed in the future. Please use embedding instead.\n"
     ]
    },
    {
     "name": "stdout",
     "output_type": "stream",
     "text": [
      "Your Deep Lake dataset has been successfully created!\n"
     ]
    },
    {
     "name": "stderr",
     "output_type": "stream",
     "text": [
      "Creating 117 embeddings in 1 batches of size 117:: 100%|█████████████████████████████████| 1/1 [00:40<00:00, 40.87s/it]"
     ]
    },
    {
     "name": "stdout",
     "output_type": "stream",
     "text": [
      "Dataset(path='hub://sachendra/langchain_course_chat_with_gh', tensors=['text', 'metadata', 'embedding', 'id'])\n",
      "\n",
      "  tensor      htype       shape      dtype  compression\n",
      "  -------    -------     -------    -------  ------- \n",
      "   text       text      (117, 1)      str     None   \n",
      " metadata     json      (117, 1)      str     None   \n",
      " embedding  embedding  (117, 1536)  float32   None   \n",
      "    id        text      (117, 1)      str     None   \n"
     ]
    },
    {
     "name": "stderr",
     "output_type": "stream",
     "text": [
      "\n"
     ]
    },
    {
     "data": {
      "text/plain": [
       "['b612e24a-0dca-11ef-993a-a841f4293306',\n",
       " 'b612e24b-0dca-11ef-96cb-a841f4293306',\n",
       " 'b612e24c-0dca-11ef-83b5-a841f4293306',\n",
       " 'b612e24d-0dca-11ef-981c-a841f4293306',\n",
       " 'b612e24e-0dca-11ef-ad30-a841f4293306',\n",
       " 'b612e24f-0dca-11ef-8956-a841f4293306',\n",
       " 'b612e250-0dca-11ef-add1-a841f4293306',\n",
       " 'b612e251-0dca-11ef-82e9-a841f4293306',\n",
       " 'b612e252-0dca-11ef-b5bd-a841f4293306',\n",
       " 'b612e253-0dca-11ef-a4d5-a841f4293306',\n",
       " 'b612e254-0dca-11ef-866f-a841f4293306',\n",
       " 'b612e255-0dca-11ef-ba2f-a841f4293306',\n",
       " 'b612e256-0dca-11ef-8806-a841f4293306',\n",
       " 'b612e257-0dca-11ef-8d9d-a841f4293306',\n",
       " 'b612e258-0dca-11ef-99b0-a841f4293306',\n",
       " 'b612e259-0dca-11ef-873c-a841f4293306',\n",
       " 'b612e25a-0dca-11ef-a17c-a841f4293306',\n",
       " 'b612e25b-0dca-11ef-b9f0-a841f4293306',\n",
       " 'b612e25c-0dca-11ef-ba87-a841f4293306',\n",
       " 'b612e25d-0dca-11ef-becd-a841f4293306',\n",
       " 'b612e25e-0dca-11ef-a75d-a841f4293306',\n",
       " 'b612e25f-0dca-11ef-9353-a841f4293306',\n",
       " 'b612e260-0dca-11ef-9dbe-a841f4293306',\n",
       " 'b612e261-0dca-11ef-ab18-a841f4293306',\n",
       " 'b612e262-0dca-11ef-9506-a841f4293306',\n",
       " 'b612e263-0dca-11ef-8dde-a841f4293306',\n",
       " 'b612e264-0dca-11ef-b87f-a841f4293306',\n",
       " 'b612e265-0dca-11ef-8cd1-a841f4293306',\n",
       " 'b612e266-0dca-11ef-aa7d-a841f4293306',\n",
       " 'b612e267-0dca-11ef-8291-a841f4293306',\n",
       " 'b612e268-0dca-11ef-9e56-a841f4293306',\n",
       " 'b612e269-0dca-11ef-a557-a841f4293306',\n",
       " 'b612e26a-0dca-11ef-9035-a841f4293306',\n",
       " 'b612e26b-0dca-11ef-95d9-a841f4293306',\n",
       " 'b612e26c-0dca-11ef-8aff-a841f4293306',\n",
       " 'b612e26d-0dca-11ef-aeda-a841f4293306',\n",
       " 'b612e26e-0dca-11ef-9936-a841f4293306',\n",
       " 'b612e26f-0dca-11ef-a75d-a841f4293306',\n",
       " 'b612e270-0dca-11ef-9a5c-a841f4293306',\n",
       " 'b612e271-0dca-11ef-a063-a841f4293306',\n",
       " 'b612e272-0dca-11ef-baea-a841f4293306',\n",
       " 'b612e273-0dca-11ef-a75a-a841f4293306',\n",
       " 'b612e274-0dca-11ef-bffe-a841f4293306',\n",
       " 'b612e275-0dca-11ef-89eb-a841f4293306',\n",
       " 'b612e276-0dca-11ef-bdb0-a841f4293306',\n",
       " 'b6130950-0dca-11ef-ac18-a841f4293306',\n",
       " 'b6130951-0dca-11ef-a6f7-a841f4293306',\n",
       " 'b6130952-0dca-11ef-bf91-a841f4293306',\n",
       " 'b6130953-0dca-11ef-805a-a841f4293306',\n",
       " 'b6130954-0dca-11ef-a763-a841f4293306',\n",
       " 'b6130955-0dca-11ef-ba2c-a841f4293306',\n",
       " 'b6130956-0dca-11ef-accd-a841f4293306',\n",
       " 'b6130957-0dca-11ef-965a-a841f4293306',\n",
       " 'b6130958-0dca-11ef-95f4-a841f4293306',\n",
       " 'b6130959-0dca-11ef-a491-a841f4293306',\n",
       " 'b613095a-0dca-11ef-b2b6-a841f4293306',\n",
       " 'b613095b-0dca-11ef-8b9d-a841f4293306',\n",
       " 'b613095c-0dca-11ef-97fb-a841f4293306',\n",
       " 'b613095d-0dca-11ef-99e1-a841f4293306',\n",
       " 'b613095e-0dca-11ef-8f46-a841f4293306',\n",
       " 'b613095f-0dca-11ef-905e-a841f4293306',\n",
       " 'b6130960-0dca-11ef-9787-a841f4293306',\n",
       " 'b6130961-0dca-11ef-926b-a841f4293306',\n",
       " 'b6130962-0dca-11ef-99a4-a841f4293306',\n",
       " 'b6130963-0dca-11ef-8eea-a841f4293306',\n",
       " 'b6130964-0dca-11ef-b4d8-a841f4293306',\n",
       " 'b6130965-0dca-11ef-932a-a841f4293306',\n",
       " 'b6130966-0dca-11ef-b7ad-a841f4293306',\n",
       " 'b6130967-0dca-11ef-b31f-a841f4293306',\n",
       " 'b6130968-0dca-11ef-95aa-a841f4293306',\n",
       " 'b6130969-0dca-11ef-b460-a841f4293306',\n",
       " 'b613096a-0dca-11ef-a8fd-a841f4293306',\n",
       " 'b613096b-0dca-11ef-8555-a841f4293306',\n",
       " 'b613096c-0dca-11ef-828f-a841f4293306',\n",
       " 'b613096d-0dca-11ef-b8db-a841f4293306',\n",
       " 'b613096e-0dca-11ef-a29d-a841f4293306',\n",
       " 'b613096f-0dca-11ef-b5c3-a841f4293306',\n",
       " 'b6130970-0dca-11ef-8776-a841f4293306',\n",
       " 'b6130971-0dca-11ef-9ffe-a841f4293306',\n",
       " 'b6130972-0dca-11ef-9459-a841f4293306',\n",
       " 'b6130973-0dca-11ef-801a-a841f4293306',\n",
       " 'b6130974-0dca-11ef-b60b-a841f4293306',\n",
       " 'b6130975-0dca-11ef-8fb8-a841f4293306',\n",
       " 'b6130976-0dca-11ef-99c6-a841f4293306',\n",
       " 'b6130977-0dca-11ef-bf89-a841f4293306',\n",
       " 'b6130978-0dca-11ef-a8e7-a841f4293306',\n",
       " 'b6130979-0dca-11ef-acf7-a841f4293306',\n",
       " 'b613097a-0dca-11ef-8545-a841f4293306',\n",
       " 'b613097b-0dca-11ef-9c69-a841f4293306',\n",
       " 'b613097c-0dca-11ef-aac3-a841f4293306',\n",
       " 'b613097d-0dca-11ef-904a-a841f4293306',\n",
       " 'b613097e-0dca-11ef-a579-a841f4293306',\n",
       " 'b613097f-0dca-11ef-909f-a841f4293306',\n",
       " 'b6130980-0dca-11ef-9668-a841f4293306',\n",
       " 'b6130981-0dca-11ef-9a14-a841f4293306',\n",
       " 'b6130982-0dca-11ef-8040-a841f4293306',\n",
       " 'b6130983-0dca-11ef-86e9-a841f4293306',\n",
       " 'b6130984-0dca-11ef-aafc-a841f4293306',\n",
       " 'b6130985-0dca-11ef-a53d-a841f4293306',\n",
       " 'b6130986-0dca-11ef-aa1c-a841f4293306',\n",
       " 'b6130987-0dca-11ef-9435-a841f4293306',\n",
       " 'b6130988-0dca-11ef-ad9b-a841f4293306',\n",
       " 'b6130989-0dca-11ef-b010-a841f4293306',\n",
       " 'b613098a-0dca-11ef-81af-a841f4293306',\n",
       " 'b613098b-0dca-11ef-9e00-a841f4293306',\n",
       " 'b613098c-0dca-11ef-a3d3-a841f4293306',\n",
       " 'b613098d-0dca-11ef-94cd-a841f4293306',\n",
       " 'b613098e-0dca-11ef-a00e-a841f4293306',\n",
       " 'b613098f-0dca-11ef-a76a-a841f4293306',\n",
       " 'b6130990-0dca-11ef-a952-a841f4293306',\n",
       " 'b6130991-0dca-11ef-94dc-a841f4293306',\n",
       " 'b6130992-0dca-11ef-a258-a841f4293306',\n",
       " 'b6130993-0dca-11ef-ab25-a841f4293306',\n",
       " 'b6130994-0dca-11ef-ae55-a841f4293306',\n",
       " 'b6130995-0dca-11ef-ae0c-a841f4293306',\n",
       " 'b6130996-0dca-11ef-814c-a841f4293306',\n",
       " 'b6130997-0dca-11ef-acfb-a841f4293306']"
      ]
     },
     "execution_count": 8,
     "metadata": {},
     "output_type": "execute_result"
    }
   ],
   "source": [
    "from langchain.embeddings.openai import OpenAIEmbeddings\n",
    "from langchain.vectorstores import DeepLake\n",
    "\n",
    "# Before executing the following code, make sure to have\n",
    "# your OpenAI key saved in the “OPENAI_API_KEY” environment variable.\n",
    "embeddings = OpenAIEmbeddings(model=\"text-embedding-ada-002\")\n",
    "\n",
    "# TODO: use your organization id here. (by default, org id is your username)\n",
    "my_activeloop_org_id = \"sachendra\"\n",
    "my_activeloop_dataset_name = \"langchain_course_chat_with_gh\"\n",
    "dataset_path = f\"hub://{my_activeloop_org_id}/{my_activeloop_dataset_name}\"\n",
    "\n",
    "db = DeepLake(dataset_path=dataset_path, embedding_function=embeddings)\n",
    "db.add_documents(splitted_text)"
   ]
  },
  {
   "cell_type": "code",
   "execution_count": 9,
   "id": "ac780a8f-fdb2-43c4-b967-bd3a342eeeac",
   "metadata": {},
   "outputs": [
    {
     "name": "stderr",
     "output_type": "stream",
     "text": [
      "C:\\Users\\SACHENDRA\\miniconda3\\envs\\activeloop2\\Lib\\site-packages\\langchain_core\\_api\\deprecation.py:119: LangChainDeprecationWarning: The method `Chain.run` was deprecated in langchain 0.1.0 and will be removed in 0.2.0. Use invoke instead.\n",
      "  warn_deprecated(\n"
     ]
    },
    {
     "data": {
      "text/plain": [
       "'The repository\\'s name is \"Payment REST API Client SDK.\"'"
      ]
     },
     "execution_count": 9,
     "metadata": {},
     "output_type": "execute_result"
    }
   ],
   "source": [
    "from langchain_openai import ChatOpenAI\n",
    "from langchain.chains import RetrievalQA\n",
    "# Create a retriever from the DeepLake instance\n",
    "retriever = db.as_retriever()\n",
    "\n",
    "# Set the search parameters for the retriever\n",
    "retriever.search_kwargs[\"distance_metric\"] = \"cos\"\n",
    "retriever.search_kwargs[\"fetch_k\"] = 100\n",
    "retriever.search_kwargs[\"k\"] = 10\n",
    "\n",
    "# Create a ChatOpenAI model instance\n",
    "model = ChatOpenAI()\n",
    "\n",
    "# Create a RetrievalQA instance from the model and retriever\n",
    "qa = RetrievalQA.from_llm(model, retriever=retriever)\n",
    "\n",
    "# Return the result of the query\n",
    "qa.run(\"What is the repository's name?\")"
   ]
  },
  {
   "cell_type": "markdown",
   "id": "44166e8c-488e-4db9-a74a-43758056d9a1",
   "metadata": {},
   "source": [
    "Create an Interface:\n",
    "\n",
    "Creating a user interface (UI) for the bot to be accessed through a web browser is an optional yet crucial step. This addition will elevate your ideas to new heights, allowing users to engage with the application effortlessly, even without any programming expertise. This repository uses the Streamlit platform, a fast and easy way to build and deploy an application instantly for free. It provides a wide range of widgets to eliminate the need for using backend or frontend frameworks to build a web application."
   ]
  },
  {
   "cell_type": "code",
   "execution_count": 10,
   "id": "2112244c-ae99-411a-b675-74d083d2af63",
   "metadata": {},
   "outputs": [
    {
     "name": "stdout",
     "output_type": "stream",
     "text": [
      "Requirement already satisfied: streamlit in c:\\users\\sachendra\\miniconda3\\envs\\activeloop2\\lib\\site-packages (1.23.1)\n",
      "Requirement already satisfied: streamlit_chat in c:\\users\\sachendra\\miniconda3\\envs\\activeloop2\\lib\\site-packages (0.0.2.2)\n",
      "Requirement already satisfied: altair<6,>=4.0 in c:\\users\\sachendra\\miniconda3\\envs\\activeloop2\\lib\\site-packages (from streamlit) (5.3.0)\n",
      "Requirement already satisfied: blinker<2,>=1.0.0 in c:\\users\\sachendra\\miniconda3\\envs\\activeloop2\\lib\\site-packages (from streamlit) (1.8.2)\n",
      "Requirement already satisfied: cachetools<6,>=4.0 in c:\\users\\sachendra\\miniconda3\\envs\\activeloop2\\lib\\site-packages (from streamlit) (5.3.3)\n",
      "Requirement already satisfied: click<9,>=7.0 in c:\\users\\sachendra\\miniconda3\\envs\\activeloop2\\lib\\site-packages (from streamlit) (8.1.7)\n",
      "Requirement already satisfied: importlib-metadata<7,>=1.4 in c:\\users\\sachendra\\miniconda3\\envs\\activeloop2\\lib\\site-packages (from streamlit) (6.11.0)\n",
      "Requirement already satisfied: numpy<2,>=1 in c:\\users\\sachendra\\miniconda3\\envs\\activeloop2\\lib\\site-packages (from streamlit) (1.26.4)\n",
      "Requirement already satisfied: packaging<24,>=14.1 in c:\\users\\sachendra\\miniconda3\\envs\\activeloop2\\lib\\site-packages (from streamlit) (23.2)\n",
      "Requirement already satisfied: pandas<3,>=0.25 in c:\\users\\sachendra\\miniconda3\\envs\\activeloop2\\lib\\site-packages (from streamlit) (2.2.2)\n",
      "Collecting pillow<10,>=6.2.0 (from streamlit)\n",
      "  Using cached Pillow-9.5.0-cp312-cp312-win_amd64.whl.metadata (9.7 kB)\n",
      "Requirement already satisfied: protobuf<5,>=3.20 in c:\\users\\sachendra\\miniconda3\\envs\\activeloop2\\lib\\site-packages (from streamlit) (4.25.3)\n",
      "Requirement already satisfied: pyarrow>=4.0 in c:\\users\\sachendra\\miniconda3\\envs\\activeloop2\\lib\\site-packages (from streamlit) (16.0.0)\n",
      "Requirement already satisfied: pympler<2,>=0.9 in c:\\users\\sachendra\\miniconda3\\envs\\activeloop2\\lib\\site-packages (from streamlit) (1.0.1)\n",
      "Requirement already satisfied: python-dateutil<3,>=2 in c:\\users\\sachendra\\miniconda3\\envs\\activeloop2\\lib\\site-packages (from streamlit) (2.9.0)\n",
      "Requirement already satisfied: requests<3,>=2.4 in c:\\users\\sachendra\\miniconda3\\envs\\activeloop2\\lib\\site-packages (from streamlit) (2.31.0)\n",
      "Requirement already satisfied: rich<14,>=10.11.0 in c:\\users\\sachendra\\miniconda3\\envs\\activeloop2\\lib\\site-packages (from streamlit) (13.7.1)\n",
      "Requirement already satisfied: tenacity<9,>=8.0.0 in c:\\users\\sachendra\\miniconda3\\envs\\activeloop2\\lib\\site-packages (from streamlit) (8.2.3)\n",
      "Requirement already satisfied: toml<2 in c:\\users\\sachendra\\miniconda3\\envs\\activeloop2\\lib\\site-packages (from streamlit) (0.10.2)\n",
      "Requirement already satisfied: typing-extensions<5,>=4.0.1 in c:\\users\\sachendra\\miniconda3\\envs\\activeloop2\\lib\\site-packages (from streamlit) (4.11.0)\n",
      "Requirement already satisfied: tzlocal<5,>=1.1 in c:\\users\\sachendra\\miniconda3\\envs\\activeloop2\\lib\\site-packages (from streamlit) (4.3.1)\n",
      "Requirement already satisfied: validators<1,>=0.2 in c:\\users\\sachendra\\miniconda3\\envs\\activeloop2\\lib\\site-packages (from streamlit) (0.28.1)\n",
      "Requirement already satisfied: gitpython!=3.1.19,<4,>=3 in c:\\users\\sachendra\\miniconda3\\envs\\activeloop2\\lib\\site-packages (from streamlit) (3.1.43)\n",
      "Requirement already satisfied: pydeck<1,>=0.1.dev5 in c:\\users\\sachendra\\miniconda3\\envs\\activeloop2\\lib\\site-packages (from streamlit) (0.9.0)\n",
      "Requirement already satisfied: tornado<7,>=6.0.3 in c:\\users\\sachendra\\miniconda3\\envs\\activeloop2\\lib\\site-packages (from streamlit) (6.4)\n",
      "Requirement already satisfied: watchdog in c:\\users\\sachendra\\miniconda3\\envs\\activeloop2\\lib\\site-packages (from streamlit) (4.0.0)\n",
      "Requirement already satisfied: jinja2 in c:\\users\\sachendra\\miniconda3\\envs\\activeloop2\\lib\\site-packages (from altair<6,>=4.0->streamlit) (3.1.3)\n",
      "Requirement already satisfied: jsonschema>=3.0 in c:\\users\\sachendra\\miniconda3\\envs\\activeloop2\\lib\\site-packages (from altair<6,>=4.0->streamlit) (4.21.1)\n",
      "Requirement already satisfied: toolz in c:\\users\\sachendra\\miniconda3\\envs\\activeloop2\\lib\\site-packages (from altair<6,>=4.0->streamlit) (0.12.1)\n",
      "Requirement already satisfied: colorama in c:\\users\\sachendra\\miniconda3\\envs\\activeloop2\\lib\\site-packages (from click<9,>=7.0->streamlit) (0.4.6)\n",
      "Requirement already satisfied: gitdb<5,>=4.0.1 in c:\\users\\sachendra\\miniconda3\\envs\\activeloop2\\lib\\site-packages (from gitpython!=3.1.19,<4,>=3->streamlit) (4.0.11)\n",
      "Requirement already satisfied: zipp>=0.5 in c:\\users\\sachendra\\miniconda3\\envs\\activeloop2\\lib\\site-packages (from importlib-metadata<7,>=1.4->streamlit) (3.17.0)\n",
      "Requirement already satisfied: pytz>=2020.1 in c:\\users\\sachendra\\miniconda3\\envs\\activeloop2\\lib\\site-packages (from pandas<3,>=0.25->streamlit) (2024.1)\n",
      "Requirement already satisfied: tzdata>=2022.7 in c:\\users\\sachendra\\miniconda3\\envs\\activeloop2\\lib\\site-packages (from pandas<3,>=0.25->streamlit) (2024.1)\n",
      "Requirement already satisfied: six>=1.5 in c:\\users\\sachendra\\miniconda3\\envs\\activeloop2\\lib\\site-packages (from python-dateutil<3,>=2->streamlit) (1.16.0)\n",
      "Requirement already satisfied: charset-normalizer<4,>=2 in c:\\users\\sachendra\\miniconda3\\envs\\activeloop2\\lib\\site-packages (from requests<3,>=2.4->streamlit) (3.3.2)\n",
      "Requirement already satisfied: idna<4,>=2.5 in c:\\users\\sachendra\\miniconda3\\envs\\activeloop2\\lib\\site-packages (from requests<3,>=2.4->streamlit) (3.7)\n",
      "Requirement already satisfied: urllib3<3,>=1.21.1 in c:\\users\\sachendra\\miniconda3\\envs\\activeloop2\\lib\\site-packages (from requests<3,>=2.4->streamlit) (2.2.1)\n",
      "Requirement already satisfied: certifi>=2017.4.17 in c:\\users\\sachendra\\miniconda3\\envs\\activeloop2\\lib\\site-packages (from requests<3,>=2.4->streamlit) (2024.2.2)\n",
      "Requirement already satisfied: markdown-it-py>=2.2.0 in c:\\users\\sachendra\\miniconda3\\envs\\activeloop2\\lib\\site-packages (from rich<14,>=10.11.0->streamlit) (3.0.0)\n",
      "Requirement already satisfied: pygments<3.0.0,>=2.13.0 in c:\\users\\sachendra\\miniconda3\\envs\\activeloop2\\lib\\site-packages (from rich<14,>=10.11.0->streamlit) (2.17.2)\n",
      "Requirement already satisfied: pytz-deprecation-shim in c:\\users\\sachendra\\miniconda3\\envs\\activeloop2\\lib\\site-packages (from tzlocal<5,>=1.1->streamlit) (0.1.0.post0)\n",
      "Requirement already satisfied: smmap<6,>=3.0.1 in c:\\users\\sachendra\\miniconda3\\envs\\activeloop2\\lib\\site-packages (from gitdb<5,>=4.0.1->gitpython!=3.1.19,<4,>=3->streamlit) (5.0.1)\n",
      "Requirement already satisfied: MarkupSafe>=2.0 in c:\\users\\sachendra\\miniconda3\\envs\\activeloop2\\lib\\site-packages (from jinja2->altair<6,>=4.0->streamlit) (2.1.5)\n",
      "Requirement already satisfied: attrs>=22.2.0 in c:\\users\\sachendra\\miniconda3\\envs\\activeloop2\\lib\\site-packages (from jsonschema>=3.0->altair<6,>=4.0->streamlit) (23.2.0)\n",
      "Requirement already satisfied: jsonschema-specifications>=2023.03.6 in c:\\users\\sachendra\\miniconda3\\envs\\activeloop2\\lib\\site-packages (from jsonschema>=3.0->altair<6,>=4.0->streamlit) (2023.12.1)\n",
      "Requirement already satisfied: referencing>=0.28.4 in c:\\users\\sachendra\\miniconda3\\envs\\activeloop2\\lib\\site-packages (from jsonschema>=3.0->altair<6,>=4.0->streamlit) (0.34.0)\n",
      "Requirement already satisfied: rpds-py>=0.7.1 in c:\\users\\sachendra\\miniconda3\\envs\\activeloop2\\lib\\site-packages (from jsonschema>=3.0->altair<6,>=4.0->streamlit) (0.18.0)\n",
      "Requirement already satisfied: mdurl~=0.1 in c:\\users\\sachendra\\miniconda3\\envs\\activeloop2\\lib\\site-packages (from markdown-it-py>=2.2.0->rich<14,>=10.11.0->streamlit) (0.1.2)\n",
      "Using cached Pillow-9.5.0-cp312-cp312-win_amd64.whl (2.5 MB)\n",
      "Installing collected packages: pillow\n",
      "  Attempting uninstall: pillow\n",
      "    Found existing installation: pillow 10.2.0\n",
      "    Uninstalling pillow-10.2.0:\n",
      "      Successfully uninstalled pillow-10.2.0\n",
      "Successfully installed pillow-9.5.0\n"
     ]
    },
    {
     "name": "stderr",
     "output_type": "stream",
     "text": [
      "  WARNING: Failed to remove contents in a temporary directory 'C:\\Users\\SACHENDRA\\miniconda3\\envs\\activeloop2\\Lib\\site-packages\\~-l'.\n",
      "  You can safely remove it manually.\n",
      "ERROR: pip's dependency resolver does not currently take into account all the packages that are installed. This behaviour is the source of the following dependency conflicts.\n",
      "deeplake 3.9.4 requires pillow~=10.2.0, but you have pillow 9.5.0 which is incompatible.\n"
     ]
    }
   ],
   "source": [
    "!pip install streamlit streamlit_chat"
   ]
  },
  {
   "cell_type": "code",
   "execution_count": 14,
   "id": "1d6e0bfa-573a-4ef8-bd41-16b23723e287",
   "metadata": {},
   "outputs": [],
   "source": [
    "import streamlit as st\n",
    "from streamlit_chat import message\n",
    "\n",
    "# Set the title for the Streamlit app\n",
    "st.title(f\"Chat with GitHub Repository\")\n",
    "\n",
    "# Initialize the session state for placeholder messages.\n",
    "if \"generated\" not in st.session_state:\n",
    "\tst.session_state[\"generated\"] = [\"i am ready to help you ser\"]\n",
    "\n",
    "if \"past\" not in st.session_state:\n",
    "\tst.session_state[\"past\"] = [\"hello\"]\n",
    "\n",
    "# A field input to receive user queries\n",
    "# user_input = st.text_input(\"\", key=\"input\")\n",
    "\n",
    "# A field input to receive user queries\n",
    "user_input = st.text_input(\"Enter your query:\", key=\"input\")\n",
    "\n",
    "# Search the databse and add the responses to state\n",
    "if user_input:\n",
    "\toutput = qa.run(user_input)\n",
    "\tst.session_state.past.append(user_input)\n",
    "\tst.session_state.generated.append(output)\n",
    "\n",
    "# # Create the conversational UI using the previous states\n",
    "# if st.session_state[\"generated\"]:\n",
    "# \tfor i in range(len(st.session_state[\"generated\"])):\n",
    "# \t\tmessage(st.session_state[\"past\"][i], is_user=True, key=str(i) + \"_user\")\n",
    "# \t\tmessage(st.session_state[\"generated\"][i], key=str(i))\n",
    "\n",
    "# Create the conversational UI using the previous states\n",
    "if \"generated\" in st.session_state:\n",
    "    for i in range(len(st.session_state[\"generated\"])):\n",
    "        message(st.session_state[\"past\"][i], is_user=True, key=str(i) + \"_user\")\n",
    "        message(st.session_state[\"generated\"][i], key=str(i))"
   ]
  },
  {
   "cell_type": "code",
   "execution_count": 16,
   "id": "acf4342a-bf49-4e02-a7d9-636309982c65",
   "metadata": {},
   "outputs": [
    {
     "name": "stderr",
     "output_type": "stream",
     "text": [
      "Usage: streamlit run [OPTIONS] TARGET [ARGS]...\n",
      "Try 'streamlit run --help' for help.\n",
      "\n",
      "Error: Invalid value: File does not exist: ./chat.py\n"
     ]
    }
   ],
   "source": [
    "!streamlit run ./chat.py"
   ]
  },
  {
   "cell_type": "code",
   "execution_count": null,
   "id": "036b11fb-3512-44e9-9e73-3d0b8e9da614",
   "metadata": {},
   "outputs": [],
   "source": []
  }
 ],
 "metadata": {
  "kernelspec": {
   "display_name": "Python 3 (ipykernel)",
   "language": "python",
   "name": "python3"
  },
  "language_info": {
   "codemirror_mode": {
    "name": "ipython",
    "version": 3
   },
   "file_extension": ".py",
   "mimetype": "text/x-python",
   "name": "python",
   "nbconvert_exporter": "python",
   "pygments_lexer": "ipython3",
   "version": "3.12.3"
  }
 },
 "nbformat": 4,
 "nbformat_minor": 5
}
