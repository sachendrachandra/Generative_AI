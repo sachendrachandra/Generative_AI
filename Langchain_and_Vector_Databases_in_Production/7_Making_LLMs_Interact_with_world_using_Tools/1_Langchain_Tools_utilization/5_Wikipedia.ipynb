{
 "cells": [
  {
   "cell_type": "code",
   "execution_count": 1,
   "id": "ca7ee391-5fd0-4f50-9b35-6c8a1e175944",
   "metadata": {},
   "outputs": [
    {
     "data": {
      "text/plain": [
       "True"
      ]
     },
     "execution_count": 1,
     "metadata": {},
     "output_type": "execute_result"
    }
   ],
   "source": [
    "from dotenv import load_dotenv, dotenv_values\n",
    "import os\n",
    "\n",
    "# Load environment variables from .env file\n",
    "config = dotenv_values(\"C:/Users/SACHENDRA/Documents/Activeloop/.env\")\n",
    "load_dotenv(\"C:/Users/SACHENDRA/Documents/Activeloop/.env\")"
   ]
  },
  {
   "cell_type": "code",
   "execution_count": 2,
   "id": "269249cf-f87f-4cb2-a505-7767a6aa1dd5",
   "metadata": {},
   "outputs": [
    {
     "name": "stderr",
     "output_type": "stream",
     "text": [
      "C:\\Users\\SACHENDRA\\miniconda3\\envs\\activeloop2\\Lib\\site-packages\\langchain_core\\_api\\deprecation.py:119: LangChainDeprecationWarning: The class `OpenAI` was deprecated in LangChain 0.0.10 and will be removed in 0.3.0. An updated version of the class exists in the langchain-openai package and should be used instead. To use it run `pip install -U langchain-openai` and import as `from langchain_openai import OpenAI`.\n",
      "  warn_deprecated(\n"
     ]
    }
   ],
   "source": [
    "from langchain.llms import OpenAI\n",
    "from langchain.agents import initialize_agent, load_tools, AgentType\n",
    "\n",
    "llm = OpenAI(model_name=\"gpt-3.5-turbo-instruct\", temperature=0)\n",
    "\n",
    "from langchain.agents import Tool"
   ]
  },
  {
   "cell_type": "code",
   "execution_count": 3,
   "id": "43dcd68b-cccd-4796-92d5-a70d4ed5743a",
   "metadata": {},
   "outputs": [
    {
     "name": "stdout",
     "output_type": "stream",
     "text": [
      "Collecting Wikipedia\n",
      "  Downloading wikipedia-1.4.0.tar.gz (27 kB)\n",
      "  Preparing metadata (setup.py): started\n",
      "  Preparing metadata (setup.py): finished with status 'done'\n",
      "Requirement already satisfied: beautifulsoup4 in c:\\users\\sachendra\\miniconda3\\envs\\activeloop2\\lib\\site-packages (from Wikipedia) (4.11.2)\n",
      "Requirement already satisfied: requests<3.0.0,>=2.0.0 in c:\\users\\sachendra\\miniconda3\\envs\\activeloop2\\lib\\site-packages (from Wikipedia) (2.31.0)\n",
      "Requirement already satisfied: charset-normalizer<4,>=2 in c:\\users\\sachendra\\miniconda3\\envs\\activeloop2\\lib\\site-packages (from requests<3.0.0,>=2.0.0->Wikipedia) (3.3.2)\n",
      "Requirement already satisfied: idna<4,>=2.5 in c:\\users\\sachendra\\miniconda3\\envs\\activeloop2\\lib\\site-packages (from requests<3.0.0,>=2.0.0->Wikipedia) (3.7)\n",
      "Requirement already satisfied: urllib3<3,>=1.21.1 in c:\\users\\sachendra\\miniconda3\\envs\\activeloop2\\lib\\site-packages (from requests<3.0.0,>=2.0.0->Wikipedia) (2.2.1)\n",
      "Requirement already satisfied: certifi>=2017.4.17 in c:\\users\\sachendra\\miniconda3\\envs\\activeloop2\\lib\\site-packages (from requests<3.0.0,>=2.0.0->Wikipedia) (2024.2.2)\n",
      "Requirement already satisfied: soupsieve>1.2 in c:\\users\\sachendra\\miniconda3\\envs\\activeloop2\\lib\\site-packages (from beautifulsoup4->Wikipedia) (2.5)\n",
      "Building wheels for collected packages: Wikipedia\n",
      "  Building wheel for Wikipedia (setup.py): started\n",
      "  Building wheel for Wikipedia (setup.py): finished with status 'done'\n",
      "  Created wheel for Wikipedia: filename=wikipedia-1.4.0-py3-none-any.whl size=11706 sha256=2e10a44a4537221312b2a50684a79474656b69d65d4826f61c7a71207655169f\n",
      "  Stored in directory: c:\\users\\sachendra\\appdata\\local\\pip\\cache\\wheels\\63\\47\\7c\\a9688349aa74d228ce0a9023229c6c0ac52ca2a40fe87679b8\n",
      "Successfully built Wikipedia\n",
      "Installing collected packages: Wikipedia\n",
      "Successfully installed Wikipedia-1.4.0\n"
     ]
    }
   ],
   "source": [
    "!pip install Wikipedia"
   ]
  },
  {
   "cell_type": "code",
   "execution_count": 6,
   "id": "2dc0f924-7347-406a-886d-83a9c9bdd641",
   "metadata": {},
   "outputs": [
    {
     "name": "stderr",
     "output_type": "stream",
     "text": [
      "C:\\Users\\SACHENDRA\\miniconda3\\envs\\activeloop2\\Lib\\site-packages\\langchain_core\\_api\\deprecation.py:119: LangChainDeprecationWarning: The method `Chain.run` was deprecated in langchain 0.1.0 and will be removed in 0.2.0. Use invoke instead.\n",
      "  warn_deprecated(\n"
     ]
    },
    {
     "name": "stdout",
     "output_type": "stream",
     "text": [
      "\n",
      "\n",
      "\u001b[1m> Entering new AgentExecutor chain...\u001b[0m\n",
      "\u001b[32;1m\u001b[1;3m I should always think about what to do\n",
      "Action: [wikipedia]\n",
      "Action Input: Nostradamus\u001b[0m\n",
      "Observation: [wikipedia] is not a valid tool, try one of [wikipedia].\n",
      "Thought:\u001b[32;1m\u001b[1;3m I should use [wikipedia] instead\n",
      "Action: [wikipedia]\n",
      "Action Input: Nostradamus\u001b[0m\n",
      "Observation: [wikipedia] is not a valid tool, try one of [wikipedia].\n",
      "Thought:\u001b[32;1m\u001b[1;3m I should use [wikipedia] instead\n",
      "Action: [wikipedia]\n",
      "Action Input: Nostradamus\u001b[0m\n",
      "Observation: [wikipedia] is not a valid tool, try one of [wikipedia].\n",
      "Thought:\u001b[32;1m\u001b[1;3m I should use [wikipedia] instead\n",
      "Action: [wikipedia]\n",
      "Action Input: Nostradamus\u001b[0m\n",
      "Observation: [wikipedia] is not a valid tool, try one of [wikipedia].\n",
      "Thought:\u001b[32;1m\u001b[1;3m I should use [wikipedia] instead\n",
      "Action: [wikipedia]\n",
      "Action Input: Nostradamus\u001b[0m\n",
      "Observation: [wikipedia] is not a valid tool, try one of [wikipedia].\n",
      "Thought:\u001b[32;1m\u001b[1;3m I should use [wikipedia] instead\n",
      "Action: [wikipedia]\n",
      "Action Input: Nostradamus\u001b[0m\n",
      "Observation: [wikipedia] is not a valid tool, try one of [wikipedia].\n",
      "Thought:\u001b[32;1m\u001b[1;3m I should use [wikipedia] instead\n",
      "Action: [wikipedia]\n",
      "Action Input: Nostradamus\u001b[0m\n",
      "Observation: [wikipedia] is not a valid tool, try one of [wikipedia].\n",
      "Thought:\u001b[32;1m\u001b[1;3m I should use [wikipedia] instead\n",
      "Action: [wikipedia]\n",
      "Action Input: Nostradamus\u001b[0m\n",
      "Observation: [wikipedia] is not a valid tool, try one of [wikipedia].\n",
      "Thought:\u001b[32;1m\u001b[1;3m I should use [wikipedia] instead\n",
      "Action: [wikipedia]\n",
      "Action Input: Nostradamus\u001b[0m\n",
      "Observation: [wikipedia] is not a valid tool, try one of [wikipedia].\n",
      "Thought:\u001b[32;1m\u001b[1;3m I now know the final answer\n",
      "Final Answer: Nostradamus is known for his prophecies and predictions of future events.\u001b[0m\n",
      "\n",
      "\u001b[1m> Finished chain.\u001b[0m\n",
      "Nostradamus is known for his prophecies and predictions of future events.\n"
     ]
    }
   ],
   "source": [
    "tools = load_tools([\"wikipedia\"])\n",
    "agent = initialize_agent(\n",
    "    tools,\n",
    "    llm,\n",
    "    agent=AgentType.ZERO_SHOT_REACT_DESCRIPTION,\n",
    "    verbose=True,\n",
    "\t\thandle_parsing_errors=True\n",
    ")\n",
    "\n",
    "\n",
    "\n",
    "\n",
    "print( agent.run(\"What is Nostradamus know for\") )"
   ]
  },
  {
   "cell_type": "code",
   "execution_count": null,
   "id": "c4bcbe75-3e70-4264-ae23-af91e4841fa9",
   "metadata": {},
   "outputs": [],
   "source": []
  }
 ],
 "metadata": {
  "kernelspec": {
   "display_name": "Python 3 (ipykernel)",
   "language": "python",
   "name": "python3"
  },
  "language_info": {
   "codemirror_mode": {
    "name": "ipython",
    "version": 3
   },
   "file_extension": ".py",
   "mimetype": "text/x-python",
   "name": "python",
   "nbconvert_exporter": "python",
   "pygments_lexer": "ipython3",
   "version": "3.12.3"
  }
 },
 "nbformat": 4,
 "nbformat_minor": 5
}
