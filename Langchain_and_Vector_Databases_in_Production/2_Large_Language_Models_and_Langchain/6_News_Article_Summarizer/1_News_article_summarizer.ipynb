{
 "cells": [
  {
   "cell_type": "code",
   "execution_count": 1,
   "id": "42ee458c-03f6-4787-a6db-4d47f19d11b7",
   "metadata": {},
   "outputs": [
    {
     "data": {
      "text/plain": [
       "True"
      ]
     },
     "execution_count": 1,
     "metadata": {},
     "output_type": "execute_result"
    }
   ],
   "source": [
    "from dotenv import load_dotenv, dotenv_values\n",
    "import os\n",
    "\n",
    "# Load environment variables from .env file\n",
    "config = dotenv_values(\"C:/Users/SACHENDRA/Documents/Activeloop/.env\")\n",
    "load_dotenv(\"C:/Users/SACHENDRA/Documents/Activeloop/.env\")"
   ]
  },
  {
   "cell_type": "code",
   "execution_count": 2,
   "id": "656255d4-dd17-4143-b6e9-7cf021ac5988",
   "metadata": {},
   "outputs": [],
   "source": [
    "'''\n",
    " here are the steps described in more detail:\n",
    "\n",
    "1. Install required libraries: To get started, ensure you have the necessary libraries installed: requests, newspaper3k, and langchain.\n",
    "2. Scrape articles: Use the requests library to scrape the content of the target news articles from their respective URLs.\n",
    "3. Extract titles and text: Employ the newspaper library to parse the scraped HTML and extract the titles and text of the articles.\n",
    "4. Preprocess the text: Clean and preprocess the extracted texts to make them suitable for input to ChatGPT.\n",
    "5. Generate summaries: Utilize ChatGPT to summarize the extracted articles' text concisely.\n",
    "6. Output the results: Present the summaries along with the original titles, allowing users to grasp the main points of each article quickly.\n",
    "'''\n",
    "\n",
    "!pip install -q newspaper3k python-dotenv"
   ]
  },
  {
   "cell_type": "code",
   "execution_count": 4,
   "id": "fdec5b30-7b80-46aa-998a-400314f391c4",
   "metadata": {},
   "outputs": [
    {
     "name": "stdout",
     "output_type": "stream",
     "text": [
      "Collecting lxml_html_clean\n",
      "  Downloading lxml_html_clean-0.1.1-py3-none-any.whl.metadata (1.5 kB)\n",
      "Requirement already satisfied: lxml in c:\\users\\sachendra\\miniconda3\\envs\\activeloop2\\lib\\site-packages (from lxml_html_clean) (5.2.1)\n",
      "Downloading lxml_html_clean-0.1.1-py3-none-any.whl (11 kB)\n",
      "Installing collected packages: lxml_html_clean\n",
      "Successfully installed lxml_html_clean-0.1.1\n"
     ]
    }
   ],
   "source": [
    "!pip install --upgrade lxml_html_clean"
   ]
  },
  {
   "cell_type": "code",
   "execution_count": 5,
   "id": "5cdbade7-68c4-4449-bf9b-c6ae613edc21",
   "metadata": {},
   "outputs": [
    {
     "name": "stdout",
     "output_type": "stream",
     "text": [
      "Title: Meta claims its new AI supercomputer will set records\n",
      "Text: Ryan Daws is a senior editor at TechForge Media, with a seasoned background spanning over a decade in tech journalism. His expertise lies in identifying the latest technological trends, dissecting complex topics, and weaving compelling narratives around the most cutting-edge developments. His articles and interviews with leading industry figures have gained him recognition as a key influencer by organisations such as Onalytica. Publications under his stewardship have since gained recognition from leading analyst houses like Forrester for their performance. Find him on X (@gadget_ry) or Mastodon (@gadgetry@techhub.social)\n",
      "\n",
      "Meta (formerly Facebook) has unveiled an AI supercomputer that it claims will be the world’s fastest.\n",
      "\n",
      "The supercomputer is called the AI Research SuperCluster (RSC) and is yet to be fully complete. However, Meta’s researchers have already begun using it for training large natural language processing (NLP) and computer vision models.\n",
      "\n",
      "RSC is set to be fully built in mid-2022. Meta says that it will be the fastest in the world once complete and the aim is for it to be capable of training models with trillions of parameters.\n",
      "\n",
      "“We hope RSC will help us build entirely new AI systems that can, for example, power real-time voice translations to large groups of people, each speaking a different language, so they can seamlessly collaborate on a research project or play an AR game together,” wrote Meta in a blog post.\n",
      "\n",
      "“Ultimately, the work done with RSC will pave the way toward building technologies for the next major computing platform — the metaverse, where AI-driven applications and products will play an important role.”\n",
      "\n",
      "For production, Meta expects RSC will be 20x faster than Meta’s current V100-based clusters. RSC is also estimated to be 9x faster at running the NVIDIA Collective Communication Library (NCCL) and 3x faster at training large-scale NLP workflows.\n",
      "\n",
      "A model with tens of billions of parameters can finish training in three weeks compared with nine weeks prior to RSC.\n",
      "\n",
      "Meta says that its previous AI research infrastructure only leveraged open source and other publicly-available datasets. RSC was designed with the security and privacy controls in mind to allow Meta to use real-world examples from its production systems in production training.\n",
      "\n",
      "What this means in practice is that Meta can use RSC to advance research for vital tasks such as identifying harmful content on its platforms—using real data from them.\n",
      "\n",
      "“We believe this is the first time performance, reliability, security, and privacy have been tackled at such a scale,” says Meta.\n",
      "\n",
      "(Image Credit: Meta)\n",
      "\n",
      "Want to learn more about AI and big data from industry leaders? Check out AI & Big Data Expo. The next events in the series will be held in Santa Clara on 11-12 May 2022, Amsterdam on 20-21 September 2022, and London on 1-2 December 2022.\n",
      "\n",
      "Explore other upcoming enterprise technology events and webinars powered by TechForge here.\n"
     ]
    }
   ],
   "source": [
    "import requests\n",
    "from newspaper import Article\n",
    "\n",
    "headers = {\n",
    "    'User-Agent': 'Mozilla/5.0 (Windows NT 10.0; Win64; x64) AppleWebKit/537.36 (KHTML, like Gecko) Chrome/89.0.4389.82 Safari/537.36'\n",
    "}\n",
    "\n",
    "article_url = \"https://www.artificialintelligence-news.com/2022/01/25/meta-claims-new-ai-supercomputer-will-set-records/\"\n",
    "\n",
    "session = requests.Session()\n",
    "\n",
    "try:\n",
    "    response = session.get(article_url, headers=headers, timeout=10)\n",
    "    \n",
    "    if response.status_code == 200:\n",
    "        article = Article(article_url)\n",
    "        article.download()\n",
    "        article.parse()\n",
    "        \n",
    "        print(f\"Title: {article.title}\")\n",
    "        print(f\"Text: {article.text}\")\n",
    "        \n",
    "    else:\n",
    "        print(f\"Failed to fetch article at {article_url}\")\n",
    "except Exception as e:\n",
    "    print(f\"Error occurred while fetching article at {article_url}: {e}\")"
   ]
  },
  {
   "cell_type": "code",
   "execution_count": 6,
   "id": "c498471c-a974-4c63-8861-ede68027d71c",
   "metadata": {},
   "outputs": [
    {
     "name": "stderr",
     "output_type": "stream",
     "text": [
      "C:\\Users\\SACHENDRA\\miniconda3\\envs\\activeloop2\\Lib\\site-packages\\deeplake\\util\\check_latest_version.py:32: UserWarning: A newer version of deeplake (3.9.1) is available. It's recommended that you update to the latest version using `pip install -U deeplake`.\n",
      "  warnings.warn(\n"
     ]
    }
   ],
   "source": [
    "from langchain.schema import (\n",
    "    HumanMessage\n",
    ")\n",
    "\n",
    "# we get the article data from the scraping part\n",
    "article_title = article.title\n",
    "article_text = article.text\n",
    "\n",
    "# prepare template for prompt\n",
    "template = \"\"\"You are a very good assistant that summarizes online articles.\n",
    "\n",
    "Here's the article you want to summarize.\n",
    "\n",
    "==================\n",
    "Title: {article_title}\n",
    "\n",
    "{article_text}\n",
    "==================\n",
    "\n",
    "Write a summary of the previous article.\n",
    "\"\"\"\n",
    "\n",
    "prompt = template.format(article_title=article.title, article_text=article.text)\n",
    "\n",
    "messages = [HumanMessage(content=prompt)]"
   ]
  },
  {
   "cell_type": "code",
   "execution_count": 7,
   "id": "776438af-4045-42b9-8e65-42c1580a6953",
   "metadata": {},
   "outputs": [],
   "source": [
    "from langchain.chat_models import ChatOpenAI\n",
    "\n",
    "# load the model\n",
    "chat = ChatOpenAI(model_name=\"gpt-4\", temperature=0)"
   ]
  },
  {
   "cell_type": "code",
   "execution_count": 8,
   "id": "9efd3d18-fd03-4f70-8425-c47024b82321",
   "metadata": {},
   "outputs": [
    {
     "name": "stdout",
     "output_type": "stream",
     "text": [
      "Meta, formerly known as Facebook, has announced the development of an AI supercomputer, the AI Research SuperCluster (RSC), which it claims will be the world's fastest upon completion in mid-2022. The RSC is already being used by Meta's researchers for training large natural language processing and computer vision models. The supercomputer is expected to be 20 times faster than Meta's current V100-based clusters and will be capable of training models with trillions of parameters. The RSC is designed with security and privacy controls to allow Meta to use real-world examples from its production systems in training. This will enable Meta to advance research for tasks such as identifying harmful content on its platforms using real data.\n"
     ]
    }
   ],
   "source": [
    "# generate summary\n",
    "summary = chat(messages)\n",
    "print(summary.content)"
   ]
  },
  {
   "cell_type": "code",
   "execution_count": 9,
   "id": "e21621da-6e27-4ecc-ae3b-2b55a2630313",
   "metadata": {},
   "outputs": [
    {
     "name": "stdout",
     "output_type": "stream",
     "text": [
      "- Meta (formerly Facebook) has announced the development of an AI supercomputer, the AI Research SuperCluster (RSC), which it claims will be the world's fastest.\n",
      "- The RSC is not yet fully built, but is already being used by Meta's researchers for training large natural language processing (NLP) and computer vision models.\n",
      "- The supercomputer is expected to be fully operational by mid-2022 and is designed to train models with trillions of parameters.\n",
      "- Meta hopes that the RSC will help build new AI systems for real-time voice translations and other applications, ultimately contributing to the development of the metaverse.\n",
      "- Once complete, RSC is expected to be 20 times faster than Meta's current V100-based clusters, 9 times faster at running the NVIDIA Collective Communication Library (NCCL), and 3 times faster at training large-scale NLP workflows.\n",
      "- A model with tens of billions of parameters can finish training in three weeks with RSC, compared to nine weeks prior to its use.\n",
      "- The RSC was designed with security and privacy controls to allow Meta to use real-world examples from its production systems in production training.\n",
      "- This will enable Meta to use RSC to advance research for tasks such as identifying harmful content on its platforms using real data.\n",
      "- Meta believes this is the first time performance, reliability, security, and privacy have been addressed at such a scale in AI research infrastructure.\n"
     ]
    }
   ],
   "source": [
    "# if we want bullted summary points\n",
    "\n",
    "# prepare template for prompt\n",
    "template = \"\"\"You are an advanced AI assistant that summarizes online articles into bulleted lists.\n",
    "\n",
    "Here's the article you need to summarize.\n",
    "\n",
    "==================\n",
    "Title: {article_title}\n",
    "\n",
    "{article_text}\n",
    "==================\n",
    "\n",
    "Now, provide a summarized version of the article in a bulleted list format.\n",
    "\"\"\"\n",
    "\n",
    "# format prompt\n",
    "prompt = template.format(article_title=article.title, article_text=article.text)\n",
    "\n",
    "# generate summary\n",
    "summary = chat([HumanMessage(content=prompt)])\n",
    "print(summary.content)"
   ]
  },
  {
   "cell_type": "code",
   "execution_count": 10,
   "id": "fc03ccac-133a-4e25-a4f9-6d2a001cd019",
   "metadata": {},
   "outputs": [
    {
     "name": "stdout",
     "output_type": "stream",
     "text": [
      "- Ryan Daws, rédacteur en chef chez TechForge Media, parle de la nouvelle superordinateur d'IA de Meta (anciennement Facebook).\n",
      "- Meta a dévoilé un superordinateur d'IA, appelé AI Research SuperCluster (RSC), qu'elle prétend être le plus rapide au monde.\n",
      "- Le RSC n'est pas encore entièrement construit, mais les chercheurs de Meta l'utilisent déjà pour former de grands modèles de traitement du langage naturel (NLP) et de vision par ordinateur.\n",
      "- Le RSC devrait être entièrement construit à la mi-2022. Meta affirme qu'il sera le plus rapide du monde une fois terminé et qu'il sera capable de former des modèles avec des trillions de paramètres.\n",
      "- Meta espère que le RSC aidera à construire de nouveaux systèmes d'IA qui pourront, par exemple, permettre des traductions vocales en temps réel pour de grands groupes de personnes parlant différentes langues.\n",
      "- Pour la production, Meta prévoit que le RSC sera 20 fois plus rapide que ses clusters actuels basés sur V100. Le RSC est également estimé être 9 fois plus rapide pour exécuter la bibliothèque de communication collective NVIDIA (NCCL) et 3 fois plus rapide pour former de grands workflows NLP.\n",
      "- Un modèle avec des dizaines de milliards de paramètres peut terminer sa formation en trois semaines avec le RSC, contre neuf semaines auparavant.\n",
      "- Meta dit que son infrastructure de recherche en IA précédente n'utilisait que des ensembles de données open source et d'autres ensembles de données disponibles au public. Le RSC a été conçu avec la sécurité et le contrôle de la confidentialité à l'esprit pour permettre à Meta d'utiliser des exemples réels de ses systèmes de production dans la formation en production.\n",
      "- En pratique, cela signifie que Meta peut utiliser le RSC pour faire avancer la recherche pour des tâches vitales telles que l'identification de contenus nuisibles sur ses plateformes, en utilisant de vraies données provenant de celles-ci.\n",
      "- Meta affirme que c'est la première fois que les performances, la fiabilité, la sécurité et la confidentialité sont abordées à une telle échelle.\n"
     ]
    }
   ],
   "source": [
    "# if you want summary in French\n",
    "\n",
    "# prepare template for prompt\n",
    "template = \"\"\"You are an advanced AI assistant that summarizes online articles into bulleted lists in French.\n",
    "\n",
    "Here's the article you need to summarize.\n",
    "\n",
    "==================\n",
    "Title: {article_title}\n",
    "\n",
    "{article_text}\n",
    "==================\n",
    "\n",
    "Now, provide a summarized version of the article in a bulleted list format, in French.\n",
    "\"\"\"\n",
    "\n",
    "# format prompt\n",
    "prompt = template.format(article_title=article.title, article_text=article.text)\n",
    "\n",
    "# generate summary\n",
    "summary = chat([HumanMessage(content=prompt)])\n",
    "print(summary.content)"
   ]
  },
  {
   "cell_type": "code",
   "execution_count": null,
   "id": "6648b11d-bb7b-4a9a-8686-6b762e2bef59",
   "metadata": {},
   "outputs": [],
   "source": []
  }
 ],
 "metadata": {
  "kernelspec": {
   "display_name": "Python 3 (ipykernel)",
   "language": "python",
   "name": "python3"
  },
  "language_info": {
   "codemirror_mode": {
    "name": "ipython",
    "version": 3
   },
   "file_extension": ".py",
   "mimetype": "text/x-python",
   "name": "python",
   "nbconvert_exporter": "python",
   "pygments_lexer": "ipython3",
   "version": "3.12.3"
  }
 },
 "nbformat": 4,
 "nbformat_minor": 5
}
