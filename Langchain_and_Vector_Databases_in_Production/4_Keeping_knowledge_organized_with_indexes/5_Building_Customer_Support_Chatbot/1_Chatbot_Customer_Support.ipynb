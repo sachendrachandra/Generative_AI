{
 "cells": [
  {
   "cell_type": "code",
   "execution_count": 1,
   "id": "cf2bb0ad-37fa-4b1f-90b2-854fd93ae1cb",
   "metadata": {},
   "outputs": [
    {
     "name": "stdout",
     "output_type": "stream",
     "text": [
      "Requirement already satisfied: unstructured in c:\\users\\sachendra\\miniconda3\\envs\\activeloop2\\lib\\site-packages (0.11.8)\n",
      "Requirement already satisfied: selenium in c:\\users\\sachendra\\miniconda3\\envs\\activeloop2\\lib\\site-packages (4.15.2)\n",
      "Requirement already satisfied: chardet in c:\\users\\sachendra\\miniconda3\\envs\\activeloop2\\lib\\site-packages (from unstructured) (5.2.0)\n",
      "Requirement already satisfied: filetype in c:\\users\\sachendra\\miniconda3\\envs\\activeloop2\\lib\\site-packages (from unstructured) (1.2.0)\n",
      "Requirement already satisfied: python-magic in c:\\users\\sachendra\\miniconda3\\envs\\activeloop2\\lib\\site-packages (from unstructured) (0.4.27)\n",
      "Requirement already satisfied: lxml in c:\\users\\sachendra\\miniconda3\\envs\\activeloop2\\lib\\site-packages (from unstructured) (5.2.1)\n",
      "Requirement already satisfied: nltk in c:\\users\\sachendra\\miniconda3\\envs\\activeloop2\\lib\\site-packages (from unstructured) (3.8.1)\n",
      "Requirement already satisfied: tabulate in c:\\users\\sachendra\\miniconda3\\envs\\activeloop2\\lib\\site-packages (from unstructured) (0.9.0)\n",
      "Requirement already satisfied: requests in c:\\users\\sachendra\\miniconda3\\envs\\activeloop2\\lib\\site-packages (from unstructured) (2.31.0)\n",
      "Requirement already satisfied: beautifulsoup4 in c:\\users\\sachendra\\miniconda3\\envs\\activeloop2\\lib\\site-packages (from unstructured) (4.12.3)\n",
      "Requirement already satisfied: emoji in c:\\users\\sachendra\\miniconda3\\envs\\activeloop2\\lib\\site-packages (from unstructured) (2.11.1)\n",
      "Requirement already satisfied: dataclasses-json in c:\\users\\sachendra\\miniconda3\\envs\\activeloop2\\lib\\site-packages (from unstructured) (0.5.7)\n",
      "Requirement already satisfied: python-iso639 in c:\\users\\sachendra\\miniconda3\\envs\\activeloop2\\lib\\site-packages (from unstructured) (2024.4.27)\n",
      "Requirement already satisfied: langdetect in c:\\users\\sachendra\\miniconda3\\envs\\activeloop2\\lib\\site-packages (from unstructured) (1.0.9)\n",
      "Requirement already satisfied: numpy in c:\\users\\sachendra\\miniconda3\\envs\\activeloop2\\lib\\site-packages (from unstructured) (1.26.4)\n",
      "Requirement already satisfied: rapidfuzz in c:\\users\\sachendra\\miniconda3\\envs\\activeloop2\\lib\\site-packages (from unstructured) (3.8.1)\n",
      "Requirement already satisfied: backoff in c:\\users\\sachendra\\miniconda3\\envs\\activeloop2\\lib\\site-packages (from unstructured) (2.2.1)\n",
      "Requirement already satisfied: typing-extensions in c:\\users\\sachendra\\miniconda3\\envs\\activeloop2\\lib\\site-packages (from unstructured) (4.11.0)\n",
      "Requirement already satisfied: unstructured-client in c:\\users\\sachendra\\miniconda3\\envs\\activeloop2\\lib\\site-packages (from unstructured) (0.22.0)\n",
      "Requirement already satisfied: wrapt in c:\\users\\sachendra\\miniconda3\\envs\\activeloop2\\lib\\site-packages (from unstructured) (1.16.0)\n",
      "Requirement already satisfied: urllib3<3,>=1.26 in c:\\users\\sachendra\\miniconda3\\envs\\activeloop2\\lib\\site-packages (from urllib3[socks]<3,>=1.26->selenium) (2.2.1)\n",
      "Requirement already satisfied: trio~=0.17 in c:\\users\\sachendra\\miniconda3\\envs\\activeloop2\\lib\\site-packages (from selenium) (0.25.0)\n",
      "Requirement already satisfied: trio-websocket~=0.9 in c:\\users\\sachendra\\miniconda3\\envs\\activeloop2\\lib\\site-packages (from selenium) (0.11.1)\n",
      "Requirement already satisfied: certifi>=2021.10.8 in c:\\users\\sachendra\\miniconda3\\envs\\activeloop2\\lib\\site-packages (from selenium) (2024.2.2)\n",
      "Requirement already satisfied: attrs>=23.2.0 in c:\\users\\sachendra\\miniconda3\\envs\\activeloop2\\lib\\site-packages (from trio~=0.17->selenium) (23.2.0)\n",
      "Requirement already satisfied: sortedcontainers in c:\\users\\sachendra\\miniconda3\\envs\\activeloop2\\lib\\site-packages (from trio~=0.17->selenium) (2.4.0)\n",
      "Requirement already satisfied: idna in c:\\users\\sachendra\\miniconda3\\envs\\activeloop2\\lib\\site-packages (from trio~=0.17->selenium) (3.7)\n",
      "Requirement already satisfied: outcome in c:\\users\\sachendra\\miniconda3\\envs\\activeloop2\\lib\\site-packages (from trio~=0.17->selenium) (1.3.0.post0)\n",
      "Requirement already satisfied: sniffio>=1.3.0 in c:\\users\\sachendra\\miniconda3\\envs\\activeloop2\\lib\\site-packages (from trio~=0.17->selenium) (1.3.1)\n",
      "Requirement already satisfied: cffi>=1.14 in c:\\users\\sachendra\\miniconda3\\envs\\activeloop2\\lib\\site-packages (from trio~=0.17->selenium) (1.16.0)\n",
      "Requirement already satisfied: wsproto>=0.14 in c:\\users\\sachendra\\miniconda3\\envs\\activeloop2\\lib\\site-packages (from trio-websocket~=0.9->selenium) (1.2.0)\n",
      "Requirement already satisfied: pysocks!=1.5.7,<2.0,>=1.5.6 in c:\\users\\sachendra\\miniconda3\\envs\\activeloop2\\lib\\site-packages (from urllib3[socks]<3,>=1.26->selenium) (1.7.1)\n",
      "Requirement already satisfied: soupsieve>1.2 in c:\\users\\sachendra\\miniconda3\\envs\\activeloop2\\lib\\site-packages (from beautifulsoup4->unstructured) (2.5)\n",
      "Requirement already satisfied: marshmallow<4.0.0,>=3.3.0 in c:\\users\\sachendra\\miniconda3\\envs\\activeloop2\\lib\\site-packages (from dataclasses-json->unstructured) (3.21.1)\n",
      "Requirement already satisfied: marshmallow-enum<2.0.0,>=1.5.1 in c:\\users\\sachendra\\miniconda3\\envs\\activeloop2\\lib\\site-packages (from dataclasses-json->unstructured) (1.5.1)\n",
      "Requirement already satisfied: typing-inspect>=0.4.0 in c:\\users\\sachendra\\miniconda3\\envs\\activeloop2\\lib\\site-packages (from dataclasses-json->unstructured) (0.9.0)\n",
      "Requirement already satisfied: six in c:\\users\\sachendra\\miniconda3\\envs\\activeloop2\\lib\\site-packages (from langdetect->unstructured) (1.16.0)\n",
      "Requirement already satisfied: click in c:\\users\\sachendra\\miniconda3\\envs\\activeloop2\\lib\\site-packages (from nltk->unstructured) (8.1.7)\n",
      "Requirement already satisfied: joblib in c:\\users\\sachendra\\miniconda3\\envs\\activeloop2\\lib\\site-packages (from nltk->unstructured) (1.4.0)\n",
      "Requirement already satisfied: regex>=2021.8.3 in c:\\users\\sachendra\\miniconda3\\envs\\activeloop2\\lib\\site-packages (from nltk->unstructured) (2024.4.16)\n",
      "Requirement already satisfied: tqdm in c:\\users\\sachendra\\miniconda3\\envs\\activeloop2\\lib\\site-packages (from nltk->unstructured) (4.66.2)\n",
      "Requirement already satisfied: charset-normalizer<4,>=2 in c:\\users\\sachendra\\miniconda3\\envs\\activeloop2\\lib\\site-packages (from requests->unstructured) (3.3.2)\n",
      "Collecting dataclasses-json (from unstructured)\n",
      "  Using cached dataclasses_json-0.6.5-py3-none-any.whl.metadata (25 kB)\n",
      "Requirement already satisfied: deepdiff>=6.0 in c:\\users\\sachendra\\miniconda3\\envs\\activeloop2\\lib\\site-packages (from unstructured-client->unstructured) (7.0.1)\n",
      "Requirement already satisfied: jsonpath-python>=1.0.6 in c:\\users\\sachendra\\miniconda3\\envs\\activeloop2\\lib\\site-packages (from unstructured-client->unstructured) (1.0.6)\n",
      "Requirement already satisfied: mypy-extensions>=1.0.0 in c:\\users\\sachendra\\miniconda3\\envs\\activeloop2\\lib\\site-packages (from unstructured-client->unstructured) (1.0.0)\n",
      "Requirement already satisfied: packaging>=23.1 in c:\\users\\sachendra\\miniconda3\\envs\\activeloop2\\lib\\site-packages (from unstructured-client->unstructured) (24.0)\n",
      "Requirement already satisfied: pypdf>=4.0 in c:\\users\\sachendra\\miniconda3\\envs\\activeloop2\\lib\\site-packages (from unstructured-client->unstructured) (4.2.0)\n",
      "Requirement already satisfied: python-dateutil>=2.8.2 in c:\\users\\sachendra\\miniconda3\\envs\\activeloop2\\lib\\site-packages (from unstructured-client->unstructured) (2.9.0)\n",
      "Requirement already satisfied: pycparser in c:\\users\\sachendra\\miniconda3\\envs\\activeloop2\\lib\\site-packages (from cffi>=1.14->trio~=0.17->selenium) (2.22)\n",
      "Requirement already satisfied: ordered-set<4.2.0,>=4.1.0 in c:\\users\\sachendra\\miniconda3\\envs\\activeloop2\\lib\\site-packages (from deepdiff>=6.0->unstructured-client->unstructured) (4.1.0)\n",
      "Requirement already satisfied: h11<1,>=0.9.0 in c:\\users\\sachendra\\miniconda3\\envs\\activeloop2\\lib\\site-packages (from wsproto>=0.14->trio-websocket~=0.9->selenium) (0.14.0)\n",
      "Requirement already satisfied: colorama in c:\\users\\sachendra\\miniconda3\\envs\\activeloop2\\lib\\site-packages (from click->nltk->unstructured) (0.4.6)\n",
      "Using cached dataclasses_json-0.6.5-py3-none-any.whl (28 kB)\n",
      "Installing collected packages: dataclasses-json\n",
      "  Attempting uninstall: dataclasses-json\n",
      "    Found existing installation: dataclasses-json 0.5.7\n",
      "    Uninstalling dataclasses-json-0.5.7:\n",
      "      Successfully uninstalled dataclasses-json-0.5.7\n",
      "Successfully installed dataclasses-json-0.6.5\n"
     ]
    },
    {
     "name": "stderr",
     "output_type": "stream",
     "text": [
      "ERROR: pip's dependency resolver does not currently take into account all the packages that are installed. This behaviour is the source of the following dependency conflicts.\n",
      "langchain 0.0.152 requires dataclasses-json<0.6.0,>=0.5.7, but you have dataclasses-json 0.6.5 which is incompatible.\n"
     ]
    }
   ],
   "source": [
    "!pip install unstructured selenium"
   ]
  },
  {
   "cell_type": "code",
   "execution_count": 5,
   "id": "ef8d5cfa-dc8c-4bbb-b60e-c6d09e20745a",
   "metadata": {},
   "outputs": [
    {
     "data": {
      "text/plain": [
       "True"
      ]
     },
     "execution_count": 5,
     "metadata": {},
     "output_type": "execute_result"
    }
   ],
   "source": [
    "from dotenv import load_dotenv, dotenv_values\n",
    "import os\n",
    "\n",
    "# Load environment variables from .env file\n",
    "config = dotenv_values(\"C:/Users/SACHENDRA/Documents/Activeloop/.env\")\n",
    "load_dotenv(\"C:/Users/SACHENDRA/Documents/Activeloop/.env\")"
   ]
  },
  {
   "cell_type": "code",
   "execution_count": 2,
   "id": "4f4a2803-683c-49f6-ad89-8d18fc10b933",
   "metadata": {},
   "outputs": [],
   "source": [
    "from langchain.embeddings.openai import OpenAIEmbeddings\n",
    "from langchain.vectorstores import DeepLake\n",
    "from langchain.text_splitter import CharacterTextSplitter\n",
    "from langchain import OpenAI\n",
    "from langchain.document_loaders import SeleniumURLLoader\n",
    "from langchain import PromptTemplate"
   ]
  },
  {
   "cell_type": "code",
   "execution_count": 3,
   "id": "09b6b0e5-e6e5-419d-b7e3-2d784608c562",
   "metadata": {},
   "outputs": [],
   "source": [
    "# we'll use information from the following articles\n",
    "urls = ['https://beebom.com/what-is-nft-explained/',\n",
    "        'https://beebom.com/how-delete-spotify-account/',\n",
    "        'https://beebom.com/how-download-gif-twitter/',\n",
    "        'https://beebom.com/how-use-chatgpt-linux-terminal/',\n",
    "        'https://beebom.com/how-delete-spotify-account/',\n",
    "        'https://beebom.com/how-save-instagram-story-with-music/',\n",
    "        'https://beebom.com/how-install-pip-windows/',\n",
    "        'https://beebom.com/how-check-disk-usage-linux/']"
   ]
  },
  {
   "cell_type": "markdown",
   "id": "15aaca84-cd48-4145-af86-00f60a14cc18",
   "metadata": {},
   "source": [
    "Split the documents into chunks and compute their embeddings\n",
    "We load the documents from the provided URLs and split them into chunks using the CharacterTextSplitter with a chunk size of 1000 and no overlap:"
   ]
  },
  {
   "cell_type": "code",
   "execution_count": 4,
   "id": "9edf1968-5c88-45df-8389-d3bf9380503c",
   "metadata": {},
   "outputs": [
    {
     "name": "stderr",
     "output_type": "stream",
     "text": [
      "Created a chunk of size 1226, which is longer than the specified 1000\n"
     ]
    }
   ],
   "source": [
    "# use the selenium scraper to load the documents\n",
    "loader = SeleniumURLLoader(urls=urls)\n",
    "docs_not_splitted = loader.load()\n",
    "\n",
    "# we split the documents into smaller chunks\n",
    "text_splitter = CharacterTextSplitter(chunk_size=1000, chunk_overlap=0)\n",
    "docs = text_splitter.split_documents(docs_not_splitted)"
   ]
  },
  {
   "cell_type": "code",
   "execution_count": 7,
   "id": "e990fd41-1f5e-4a9a-9de1-bc1a4bffd9db",
   "metadata": {},
   "outputs": [
    {
     "name": "stdout",
     "output_type": "stream",
     "text": [
      "Your Deep Lake dataset has been successfully created!\n",
      "The dataset is private so make sure you are logged in!\n"
     ]
    },
    {
     "name": "stderr",
     "output_type": "stream",
     "text": [
      "-"
     ]
    },
    {
     "name": "stdout",
     "output_type": "stream",
     "text": [
      "This dataset can be visualized in Jupyter Notebook by ds.visualize() or at https://app.activeloop.ai/sachendra/langchain_course_customer_support\n"
     ]
    },
    {
     "name": "stderr",
     "output_type": "stream",
     "text": [
      " \r"
     ]
    },
    {
     "name": "stdout",
     "output_type": "stream",
     "text": [
      "hub://sachendra/langchain_course_customer_support loaded successfully.\n"
     ]
    },
    {
     "name": "stderr",
     "output_type": "stream",
     "text": [
      "Evaluating ingest: 100%|█████████████████████████████████████████████████████████████████████████████| 1/1 [00:30<00:00\n",
      "/"
     ]
    },
    {
     "name": "stdout",
     "output_type": "stream",
     "text": [
      "Dataset(path='hub://sachendra/langchain_course_customer_support', tensors=['embedding', 'ids', 'metadata', 'text'])\n",
      "\n",
      "  tensor     htype      shape      dtype  compression\n",
      "  -------   -------    -------    -------  ------- \n",
      " embedding  generic  (119, 1536)  float32   None   \n",
      "    ids      text     (119, 1)      str     None   \n",
      " metadata    json     (119, 1)      str     None   \n",
      "   text      text     (119, 1)      str     None   \n"
     ]
    },
    {
     "name": "stderr",
     "output_type": "stream",
     "text": [
      " \r"
     ]
    },
    {
     "data": {
      "text/plain": [
       "['e0aa5567-0a21-11ef-b7fe-a841f4293306',\n",
       " 'e0aa5568-0a21-11ef-a95d-a841f4293306',\n",
       " 'e0aa5569-0a21-11ef-97d4-a841f4293306',\n",
       " 'e0aa556a-0a21-11ef-9958-a841f4293306',\n",
       " 'e0aa556b-0a21-11ef-8da4-a841f4293306',\n",
       " 'e0aa556c-0a21-11ef-9176-a841f4293306',\n",
       " 'e0aa556d-0a21-11ef-b4d3-a841f4293306',\n",
       " 'e0aa556e-0a21-11ef-9604-a841f4293306',\n",
       " 'e0aa556f-0a21-11ef-8e79-a841f4293306',\n",
       " 'e0aa5570-0a21-11ef-9e3e-a841f4293306',\n",
       " 'e0aa5571-0a21-11ef-9bcf-a841f4293306',\n",
       " 'e0aa5572-0a21-11ef-8fdb-a841f4293306',\n",
       " 'e0aa5573-0a21-11ef-b1dd-a841f4293306',\n",
       " 'e0aa5574-0a21-11ef-a17d-a841f4293306',\n",
       " 'e0aa5575-0a21-11ef-bf60-a841f4293306',\n",
       " 'e0aa5576-0a21-11ef-994f-a841f4293306',\n",
       " 'e0aa5577-0a21-11ef-8d36-a841f4293306',\n",
       " 'e0aa5578-0a21-11ef-b91b-a841f4293306',\n",
       " 'e0aa5579-0a21-11ef-a1be-a841f4293306',\n",
       " 'e0aa557a-0a21-11ef-aa4c-a841f4293306',\n",
       " 'e0aa557b-0a21-11ef-92b4-a841f4293306',\n",
       " 'e0aa557c-0a21-11ef-b9ad-a841f4293306',\n",
       " 'e0aa557d-0a21-11ef-95d7-a841f4293306',\n",
       " 'e0aa557e-0a21-11ef-b07b-a841f4293306',\n",
       " 'e0aa557f-0a21-11ef-9648-a841f4293306',\n",
       " 'e0aa5580-0a21-11ef-b7d0-a841f4293306',\n",
       " 'e0aa5581-0a21-11ef-9aa0-a841f4293306',\n",
       " 'e0aa5582-0a21-11ef-b8e2-a841f4293306',\n",
       " 'e0aa5583-0a21-11ef-a521-a841f4293306',\n",
       " 'e0aa5584-0a21-11ef-85c8-a841f4293306',\n",
       " 'e0aa5585-0a21-11ef-a4be-a841f4293306',\n",
       " 'e0aa5586-0a21-11ef-bb5c-a841f4293306',\n",
       " 'e0aa5587-0a21-11ef-a6e1-a841f4293306',\n",
       " 'e0aa5588-0a21-11ef-8038-a841f4293306',\n",
       " 'e0aa5589-0a21-11ef-a507-a841f4293306',\n",
       " 'e0aa558a-0a21-11ef-89ee-a841f4293306',\n",
       " 'e0aa558b-0a21-11ef-9381-a841f4293306',\n",
       " 'e0aa558c-0a21-11ef-b793-a841f4293306',\n",
       " 'e0aa558d-0a21-11ef-95b5-a841f4293306',\n",
       " 'e0aa558e-0a21-11ef-9bda-a841f4293306',\n",
       " 'e0aa558f-0a21-11ef-b165-a841f4293306',\n",
       " 'e0aa5590-0a21-11ef-bdbc-a841f4293306',\n",
       " 'e0aa5591-0a21-11ef-8c1e-a841f4293306',\n",
       " 'e0aa5592-0a21-11ef-bb2d-a841f4293306',\n",
       " 'e0aa5593-0a21-11ef-9138-a841f4293306',\n",
       " 'e0aa5594-0a21-11ef-8e81-a841f4293306',\n",
       " 'e0aa5595-0a21-11ef-a5b4-a841f4293306',\n",
       " 'e0aa5596-0a21-11ef-b41a-a841f4293306',\n",
       " 'e0aa5597-0a21-11ef-a254-a841f4293306',\n",
       " 'e0aa5598-0a21-11ef-8289-a841f4293306',\n",
       " 'e0aa5599-0a21-11ef-8f2f-a841f4293306',\n",
       " 'e0aa559a-0a21-11ef-8385-a841f4293306',\n",
       " 'e0aa559b-0a21-11ef-99a4-a841f4293306',\n",
       " 'e0aa559c-0a21-11ef-adcb-a841f4293306',\n",
       " 'e0aa559d-0a21-11ef-86df-a841f4293306',\n",
       " 'e0aa559e-0a21-11ef-b3b2-a841f4293306',\n",
       " 'e0aa559f-0a21-11ef-b3cb-a841f4293306',\n",
       " 'e0aa55a0-0a21-11ef-93db-a841f4293306',\n",
       " 'e0aa55a1-0a21-11ef-aeca-a841f4293306',\n",
       " 'e0aa55a2-0a21-11ef-b08b-a841f4293306',\n",
       " 'e0aa55a3-0a21-11ef-a0a3-a841f4293306',\n",
       " 'e0aa55a4-0a21-11ef-a720-a841f4293306',\n",
       " 'e0aa55a5-0a21-11ef-8b87-a841f4293306',\n",
       " 'e0aa55a6-0a21-11ef-9a42-a841f4293306',\n",
       " 'e0aa55a7-0a21-11ef-afdf-a841f4293306',\n",
       " 'e0aa55a8-0a21-11ef-8c8d-a841f4293306',\n",
       " 'e0aa55a9-0a21-11ef-a598-a841f4293306',\n",
       " 'e0aa55aa-0a21-11ef-97c5-a841f4293306',\n",
       " 'e0aa55ab-0a21-11ef-9e43-a841f4293306',\n",
       " 'e0aa55ac-0a21-11ef-9c45-a841f4293306',\n",
       " 'e0aa55ad-0a21-11ef-b050-a841f4293306',\n",
       " 'e0aa55ae-0a21-11ef-928a-a841f4293306',\n",
       " 'e0aa55af-0a21-11ef-8b77-a841f4293306',\n",
       " 'e0aa55b0-0a21-11ef-99fc-a841f4293306',\n",
       " 'e0aa55b1-0a21-11ef-8efe-a841f4293306',\n",
       " 'e0aa55b2-0a21-11ef-be5a-a841f4293306',\n",
       " 'e0aa55b3-0a21-11ef-82b0-a841f4293306',\n",
       " 'e0aa55b4-0a21-11ef-b820-a841f4293306',\n",
       " 'e0aa55b5-0a21-11ef-935e-a841f4293306',\n",
       " 'e0aa55b6-0a21-11ef-bc46-a841f4293306',\n",
       " 'e0aa55b7-0a21-11ef-84cb-a841f4293306',\n",
       " 'e0aa55b8-0a21-11ef-9b23-a841f4293306',\n",
       " 'e0aa55b9-0a21-11ef-b13e-a841f4293306',\n",
       " 'e0aa55ba-0a21-11ef-8c94-a841f4293306',\n",
       " 'e0aa55bb-0a21-11ef-8d81-a841f4293306',\n",
       " 'e0aa55bc-0a21-11ef-92b5-a841f4293306',\n",
       " 'e0aa55bd-0a21-11ef-9855-a841f4293306',\n",
       " 'e0aa55be-0a21-11ef-80b3-a841f4293306',\n",
       " 'e0aa55bf-0a21-11ef-8e00-a841f4293306',\n",
       " 'e0aa55c0-0a21-11ef-a537-a841f4293306',\n",
       " 'e0aa55c1-0a21-11ef-b6a7-a841f4293306',\n",
       " 'e0aa55c2-0a21-11ef-94ab-a841f4293306',\n",
       " 'e0aa55c3-0a21-11ef-9199-a841f4293306',\n",
       " 'e0aa55c4-0a21-11ef-a1c8-a841f4293306',\n",
       " 'e0aa55c5-0a21-11ef-b470-a841f4293306',\n",
       " 'e0aa55c6-0a21-11ef-98f9-a841f4293306',\n",
       " 'e0aa55c7-0a21-11ef-85a4-a841f4293306',\n",
       " 'e0aa55c8-0a21-11ef-9d0d-a841f4293306',\n",
       " 'e0aa55c9-0a21-11ef-8f1a-a841f4293306',\n",
       " 'e0aa55ca-0a21-11ef-99ff-a841f4293306',\n",
       " 'e0aa55cb-0a21-11ef-aa9a-a841f4293306',\n",
       " 'e0aa55cc-0a21-11ef-91e0-a841f4293306',\n",
       " 'e0aa55cd-0a21-11ef-8832-a841f4293306',\n",
       " 'e0aa55ce-0a21-11ef-992d-a841f4293306',\n",
       " 'e0aa55cf-0a21-11ef-9c79-a841f4293306',\n",
       " 'e0aa55d0-0a21-11ef-8801-a841f4293306',\n",
       " 'e0aa55d1-0a21-11ef-afc1-a841f4293306',\n",
       " 'e0aa55d2-0a21-11ef-b344-a841f4293306',\n",
       " 'e0aa55d3-0a21-11ef-91ba-a841f4293306',\n",
       " 'e0aa55d4-0a21-11ef-a84f-a841f4293306',\n",
       " 'e0aa55d5-0a21-11ef-a438-a841f4293306',\n",
       " 'e0aa55d6-0a21-11ef-88e4-a841f4293306',\n",
       " 'e0aa55d7-0a21-11ef-a0a7-a841f4293306',\n",
       " 'e0aa55d8-0a21-11ef-88be-a841f4293306',\n",
       " 'e0aa55d9-0a21-11ef-bc73-a841f4293306',\n",
       " 'e0aa55da-0a21-11ef-b1da-a841f4293306',\n",
       " 'e0aa55db-0a21-11ef-a4ad-a841f4293306',\n",
       " 'e0aa55dc-0a21-11ef-ac1d-a841f4293306',\n",
       " 'e0aa55dd-0a21-11ef-b008-a841f4293306']"
      ]
     },
     "execution_count": 7,
     "metadata": {},
     "output_type": "execute_result"
    }
   ],
   "source": [
    "# Before executing the following code, make sure to have\n",
    "# your OpenAI key saved in the “OPENAI_API_KEY” environment variable.\n",
    "embeddings = OpenAIEmbeddings(model=\"text-embedding-ada-002\")\n",
    "\n",
    "# create Deep Lake dataset\n",
    "# TODO: use your organization id here. (by default, org id is your username)\n",
    "my_activeloop_org_id = \"sachendra\"\n",
    "my_activeloop_dataset_name = \"langchain_course_customer_support\"\n",
    "dataset_path = f\"hub://{my_activeloop_org_id}/{my_activeloop_dataset_name}\"\n",
    "db = DeepLake(dataset_path=dataset_path, embedding_function=embeddings)\n",
    "\n",
    "# add documents to our Deep Lake dataset\n",
    "db.add_documents(docs)"
   ]
  },
  {
   "cell_type": "code",
   "execution_count": 8,
   "id": "da06669d-8aad-4073-b21c-c94ecebd1142",
   "metadata": {},
   "outputs": [
    {
     "name": "stdout",
     "output_type": "stream",
     "text": [
      "Check Disk Usage Using Gnome Disk Tool\n",
      "\n",
      "Check Disk Usage Using Disk Usage Analyzer Tool\n",
      "\n",
      "Cleanup Disk using Disk Usage Analyzer\n",
      "\n",
      "Check Disk Space Using the df Command\n",
      "\n",
      "In Linux, there are many commands to check disk usage, the most common being the df command. The df stands for “Disk Filesystem” in the command, which is a handy way to check the current disk usage and the available disk space in Linux. The syntax for the df command in Linux is as follows:\n",
      "\n",
      "df <options> <file_system>\n",
      "\n",
      "The options to use with the df command are:\n",
      "\n",
      "Options Description -a Show information about all file systems including pseudo, duplicate and inaccessible file systems -h Display the sizes in human-readable format i.e in powers of 1024 -t Display the disk usage of only the file system of a particular type -x Display the disk usage excluding a particular file type\n",
      "\n",
      "Display Disk Usage in Human Readable Format\n"
     ]
    }
   ],
   "source": [
    "# let's see the top relevant documents to a specific query\n",
    "query = \"how to check disk usage in linux?\"\n",
    "docs = db.similarity_search(query)\n",
    "print(docs[0].page_content)"
   ]
  },
  {
   "cell_type": "markdown",
   "id": "d61cc5a8-c271-432d-a1c7-d84c809b39c2",
   "metadata": {},
   "source": [
    "___________________________________________________________________________________________________________________________________________\n",
    "\n",
    "2: Craft a prompt for GPT-3 using the suggested strategies\n",
    "We will create a prompt template that incorporates role-prompting, relevant Knowledge Base information, and the user's question:"
   ]
  },
  {
   "cell_type": "code",
   "execution_count": 10,
   "id": "88d3b85e-b1d4-47b6-94a5-a712c4ee84dc",
   "metadata": {},
   "outputs": [],
   "source": [
    "# let's write a prompt for a customer support chatbot that\n",
    "# answer questions using information extracted from our db\n",
    "template = \"\"\"You are an exceptional customer support chatbot that gently answer questions.\n",
    "\n",
    "You know the following context information.\n",
    "\n",
    "{chunks_formatted}\n",
    "\n",
    "Answer to the following question from a customer. Use only information from the previous context information. Do not invent stuff.\n",
    "\n",
    "Question: {query}\n",
    "\n",
    "Answer:\"\"\"\n",
    "\n",
    "prompt = PromptTemplate(\n",
    "    input_variables=[\"chunks_formatted\", \"query\"],\n",
    "    template=template,\n",
    ")"
   ]
  },
  {
   "cell_type": "markdown",
   "id": "40cfecb4-be54-4c49-8493-e1b5ad71b200",
   "metadata": {},
   "source": [
    "3: Use the GPT3 model with a temperature of 0 for text generation\n",
    "To generate a response, we first retrieve the top-k (e.g., top-3) chunks most similar to the user query, format the prompt, and send the formatted prompt to the GPT3 model with a temperature of 0."
   ]
  },
  {
   "cell_type": "code",
   "execution_count": 12,
   "id": "86a00094-661f-4a36-9c0a-f9a73736097a",
   "metadata": {},
   "outputs": [
    {
     "name": "stderr",
     "output_type": "stream",
     "text": [
      "WARNING! model is not default parameter.\n",
      "                    model was transfered to model_kwargs.\n",
      "                    Please confirm that model is what you intended.\n"
     ]
    },
    {
     "name": "stdout",
     "output_type": "stream",
     "text": [
      " There are several methods to check disk usage in Linux. One way is to use the df command in the terminal, which will display the current disk usage and available disk space. Another way is to use the Disk Usage Analyzer tool, which can be accessed through the Applications menu. This tool will scan all connected storage partitions and display a ring chart of the disk occupancy for each folder. You can also use the Gnome Disk Tool or the GDU Disk Usage Analyzer for a more user-friendly interface.\n"
     ]
    }
   ],
   "source": [
    "# the full pipeline\n",
    "\n",
    "# user question\n",
    "query = \"How to check disk usage in linux?\"\n",
    "\n",
    "# retrieve relevant chunks\n",
    "docs = db.similarity_search(query)\n",
    "retrieved_chunks = [doc.page_content for doc in docs]\n",
    "\n",
    "# format the prompt\n",
    "chunks_formatted = \"\\n\\n\".join(retrieved_chunks)\n",
    "prompt_formatted = prompt.format(chunks_formatted=chunks_formatted, query=query)\n",
    "\n",
    "# generate answer\n",
    "llm = OpenAI(model=\"gpt-3.5-turbo-instruct\", temperature=0)\n",
    "answer = llm(prompt_formatted)\n",
    "print(answer)"
   ]
  },
  {
   "cell_type": "code",
   "execution_count": null,
   "id": "0c281cb9-3dee-4db5-af4d-ceecb4349440",
   "metadata": {},
   "outputs": [],
   "source": []
  }
 ],
 "metadata": {
  "kernelspec": {
   "display_name": "Python 3 (ipykernel)",
   "language": "python",
   "name": "python3"
  },
  "language_info": {
   "codemirror_mode": {
    "name": "ipython",
    "version": 3
   },
   "file_extension": ".py",
   "mimetype": "text/x-python",
   "name": "python",
   "nbconvert_exporter": "python",
   "pygments_lexer": "ipython3",
   "version": "3.12.3"
  }
 },
 "nbformat": 4,
 "nbformat_minor": 5
}
