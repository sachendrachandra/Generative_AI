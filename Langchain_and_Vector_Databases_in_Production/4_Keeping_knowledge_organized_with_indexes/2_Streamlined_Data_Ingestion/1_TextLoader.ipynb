{
 "cells": [
  {
   "cell_type": "code",
   "execution_count": 1,
   "id": "58a447fc-adb5-404e-a387-aa1df28c550d",
   "metadata": {},
   "outputs": [
    {
     "data": {
      "text/plain": [
       "True"
      ]
     },
     "execution_count": 1,
     "metadata": {},
     "output_type": "execute_result"
    }
   ],
   "source": [
    "from dotenv import load_dotenv, dotenv_values\n",
    "import os\n",
    "\n",
    "# Load environment variables from .env file\n",
    "config = dotenv_values(\"C:/Users/SACHENDRA/Documents/Activeloop/.env\")\n",
    "load_dotenv(\"C:/Users/SACHENDRA/Documents/Activeloop/.env\")"
   ]
  },
  {
   "cell_type": "code",
   "execution_count": 16,
   "id": "36c2dcec-ce98-428b-bf34-2e506b9498ef",
   "metadata": {},
   "outputs": [],
   "source": [
    "from langchain.document_loaders import TextLoader\n",
    "\n",
    "loader = TextLoader(r\"C:\\Users\\SACHENDRA\\Documents\\Activeloop\\Langchain_and_Vector_Databases_in_Production\\4_Keeping_knowledge_organized_with_indexes\\2_Streamlined_Data_Ingestion\\my_file.txt\")\n",
    "documents = loader.load()"
   ]
  },
  {
   "cell_type": "code",
   "execution_count": 10,
   "id": "c5562688-ea78-42ac-a302-f5d6c1b42c27",
   "metadata": {},
   "outputs": [],
   "source": [
    "!pip install -q pypdf"
   ]
  },
  {
   "cell_type": "code",
   "execution_count": 17,
   "id": "ce9d3000-faba-4370-844e-c069066a7bb6",
   "metadata": {},
   "outputs": [
    {
     "name": "stdout",
     "output_type": "stream",
     "text": [
      "page_content='Sachendra Chandra\\n♂phone6394633084, 9410411981 /envel⌢pe07sachendra@gmail.com /linkedinLinkedIn /githubGitHub\\nWork Experience\\nData Engineeer 2, Rakuten India August 2021 – Present\\nMart Migration\\n•Part of data platform migration project from Teradata data to Bigquery. Converted the Systemwalker Jobnet into\\nAirflow Python Scripts. These jobnets helped in creating the data marts in Teradata. The corresponding Airflow scripts\\norchestrated the same data mart creation in BigQuery.\\n•Analyzed the translated Teradata SQL to BigQuery SQLs and the data marts created in BigQuery to ensure exact match\\nbetween the data of Teradata that with BigQuery and automated the validation process for translated queries on Google\\nBigQuery and Hive and involed in data ingestion from Teradata to BigQuery via Jenkins.\\n•Part of migration task from C5000 to Minio and Bigquery. Translated the Airflow scripts for daily ingestion from Hive to\\nMinio and BigQuery.\\n•Skills Used: Python, SQL, Apache Airflow, BigQuery, Teradata, HiveQL\\nPOC of Data Mgmt. Tool like Spline and DataHub\\n•Integrated Spline Data Lineage tool with existing code base to track Lineage of Spark job used for mart creation in\\nBigQuery and Minio.\\n•Worked on creating a Custom dispatcher using the spark spline agent code base so as to extract relevant lineage\\ninformation for Spark mart creation jobs.\\n•Explored DataHub for capturing, tracking, and visualizing data lineage, allowing organizations to gain valuable insights\\ninto their data ecosystems.\\n•Skills Used: Python, Spline, DataHub, Apache Spark\\nInternal Metadata Management\\n•Worked on building framework to capture the dataset and datasource lineage and dataset metadata for spark job used\\nfor mart building.\\n•Developed REST Client SDK that leverages Hive Metastore service for capturing matadata information of spark job and\\ndispatching Metadata and lineage information to API layer.\\n•Skills Used: Apache Spark, Hive, ArangoDB, Docker\\nOperational Artificial General Intelligence (OAGI)\\n•Thousands of jobs running every day and they consume cores, memories, storages and network bandwidth to full-fill\\ntheir functional goals; those cores, memories, storages and network bandwidth are having the cost based on usage; if\\nthose processes are unnecessarily retried and rerun in a circumstance where errors are non recoverable, business has to\\npay unnecessary cost for those resources consumed by processes.\\n•Before retrying, the process asks for the opinion from the OAGI service which is powered by LLM(Large Language\\nModel) which has given the enough knowledge of what kind of exceptions/errors are re-triable and non re-triable. This\\nsaves many resources and directly impacts business revenue.\\n•Skills Used: Langchain, Llama model, Huggingface\\nEducation\\nIndian Institute of Science, Bangalore Aug. 2019 – July 2021\\nMaster of Technology in Computer Science\\nInstitute of Engineering and Technology, Lucknow Aug. 2015 – July 2019\\nBachelor of Technology in Information Technology\\nM.Tech. Thesis (GitHub Link)\\nTransformer Models for Assertion Generation in JAVA Unit Tests Feb. 2020 – June 2021\\nGuide: Prof. Aditya Kanade (SEAL Lab) IISc. Bangalore, Karnataka\\n•Automatic Assert Statement Generation for Java Unit Test Cases using multiple Transformers Models Fused with Pretrained\\nCuBERT ( CodeUnderstanding BERT ) Encoder - BERT Large Transformer Encoder by Google.\\n•Fed the JUnit Test methods as input to the CuBERT encoder and used it’s output as sentence embeddings for the Junit Test\\nmethod. Fed this output as input to the modified Tranformer models.\\n•Used drop-net technique to outperform the baseline models.' metadata={'source': 'C:\\\\Users\\\\SACHENDRA\\\\Documents\\\\Activeloop\\\\Langchain_and_Vector_Databases_in_Production\\\\4_Keeping_knowledge_organized_with_indexes\\\\2_Streamlined_Data_Ingestion\\\\Sachendra_CV.pdf', 'page': 0}\n"
     ]
    }
   ],
   "source": [
    "from langchain.document_loaders import PyPDFLoader\n",
    "\n",
    "loader = PyPDFLoader(r\"C:\\Users\\SACHENDRA\\Documents\\Activeloop\\Langchain_and_Vector_Databases_in_Production\\4_Keeping_knowledge_organized_with_indexes\\2_Streamlined_Data_Ingestion\\Sachendra_CV.pdf\")\n",
    "pages = loader.load_and_split()\n",
    "\n",
    "print(pages[0])"
   ]
  },
  {
   "cell_type": "raw",
   "id": "709af4da-9f28-4063-8304-17aa4d0dff8d",
   "metadata": {},
   "source": [
    "'''\n",
    "SeleniumURLLoader:The SeleniumURLLoader module offers a robust yet user-friendly approach for loading HTML documents from a list of URLs requiring JavaScript rendering. \n",
    "'''"
   ]
  },
  {
   "cell_type": "code",
   "execution_count": 21,
   "id": "cfccf897-3145-49d9-8a66-cc92cdd17e5b",
   "metadata": {},
   "outputs": [
    {
     "name": "stderr",
     "output_type": "stream",
     "text": [
      "[nltk_data] Downloading package punkt to\n",
      "[nltk_data]     C:\\Users\\SACHENDRA\\AppData\\Roaming\\nltk_data...\n",
      "[nltk_data]   Unzipping tokenizers\\punkt.zip.\n",
      "[nltk_data] Downloading package averaged_perceptron_tagger to\n",
      "[nltk_data]     C:\\Users\\SACHENDRA\\AppData\\Roaming\\nltk_data...\n",
      "[nltk_data]   Unzipping taggers\\averaged_perceptron_tagger.zip.\n"
     ]
    },
    {
     "name": "stdout",
     "output_type": "stream",
     "text": [
      "page_content=\"NaN / NaN\\n\\nNaN / NaN\\n\\nIN\\n\\nSkip navigation\\n\\nSearch\\n\\nSearch with your voice\\n\\nSign in\\n\\nIN\\n\\nOPENASSISTANT TAKES ON CHATGPT!\\n\\nSearch\\n\\nInfo\\n\\nShopping\\n\\nWatch Later\\n\\nShare\\n\\nCopy link\\n\\nTap to unmute\\n\\n2x\\n\\nIf playback doesn't begin shortly, try restarting your device.\\n\\nUp next\\n\\nLiveUpcoming\\n\\nPlay now\\n\\nYou're signed out\\n\\nVideos that you watch may be added to the TV's watch history and influence TV recommendations. To avoid this, cancel and sign in to YouTube on your computer.\\n\\nMachine Learning Street Talk\\n\\nSubscribe\\n\\nSubscribed\\n\\nShare\\n\\nAn error occurred while retrieving sharing information. Please try again later.\\n\\n2:19\\n\\n2:19 / 59:51\\n\\nWatch full video\\n\\n•\\n\\nDiscussing Open Assistant and Fine-tuning Language Models\\n\\nScroll for details\\n\\nChapters\\n\\nDiscussing Open Assistant and Fine-tuning Language Models\\n    Discussing Open Assistant and Fine-tuning Language Models\\n    0:00\\n\\nDiscussing Open Assistant and Fine-tuning Language Models\\n\\n0:00\\n\\nOpen Assistant and Data Collection\\n    Open Assistant and Data Collection\\n    16:00\\n\\nOpen Assistant and Data Collection\\n\\n16:00\\n\\nData Collection and User Preferences\\n    Data Collection and User Preferences\\n    32:00\\n\\nData Collection and User Preferences\\n\\n32:00\\n\\nAddressing Criticisms and Ethical Considerations\\n    Addressing Criticisms and Ethical Considerations\\n    38:00\\n\\nAddressing Criticisms and Ethical Considerations\\n\\n38:00\\n\\nEthical Guidelines and Open AI Research\\n    Ethical Guidelines and Open AI Research\\n    48:00\\n\\nEthical Guidelines and Open AI Research\\n\\n48:00\\n\\nSync to video time\\n\\nProducts\\n\\nMachine Learning Street Talk tagged products below.\\n\\nLearn more\\n\\nMLST new logo design (April 24) Women's Classic TeeSpring₹2,085.21\\n            \\n          View\\n\\nMLST new logo design (April 24) Indoor PillowSpring₹2,418.97\\n            \\n          View\\n\\nMLST new logo design (April 24) Camping mugSpring₹1,417.68\\n            \\n          View\\n\\nMLST new logo design (April 24) Premium Ring-Spun Cotton T-ShirtSpring₹2,252.09\\n            \\n          View\\n\\nAGI Twitter Map Meme MugSpring₹1,417.68\\n            \\n          View\\n\\nMLST new logo design (April 24) MugSpring₹1,334.24\\n            \\n          View\\n\\nMachine Learning Street Talk Classic Long Sleeve TeeSpring₹2,586.69\\n            \\n          View\\n\\nMLST new logo design (April 24) Die Cut StickerSpring₹583.26\\n            \\n          View\\n\\nDescription\\n\\n1.5K\\n\\nLikes\\n\\n47,942\\n\\nViews\\n\\n2023\\n\\n19 Apr\\n\\nPatreon:\\n\\n/\\xa0mlst\\n\\nDiscord:\\n\\n/\\xa0discord\\n\\nTwitter:\\n\\n/\\xa0mlstreettalk\\n\\nIn this eye-opening interview, we dive deep into the world of Open Assistant, an ambitious project aiming to create a truly open-source AI language model. Our guest reveals the behind-the-scenes process of developing this revolutionary technology, addressing the critical role of community involvement and the importance of a diverse dataset. They also tackle the controversial topic of AI ethics, shedding light on the current state of the field and the necessity for public accountability.\\n\\nJoin us as we explore the inner workings of fine-tuned language models like LAMA and discuss how human data plays a crucial role in the development of intelligent AI systems. Our guest shares their experience of working on the Open Assistant project and the challenges they faced in creating a platform that allows people to contribute to the data set.\\n\\nWe also delve into the issue of privacy, discussing the terms of service governing data usage in the project, and how the team is working to improve transparency and user control over their data. The conversation takes a critical turn as our guest addresses the criticisms and ethical considerations surrounding the evaluation and user preference study of their chatbot, comparing it to chat GPT.\\n\\nFinally, we explore the future of the ML News channel and the Open Assistant project, touching on the potential impact of AI on society and the need for ethical guidelines and principles to ensure the overall welfare of humanity. Don't miss this insightful and thought-provoking conversation that will change the way you view AI and its role in our world!\\n\\nhttps://open-assistant.io/\\n\\nDr. Yannic Kilcher:\\n\\n/\\xa0@yannickilcher\\n\\nDr. Tim Scarfe CTO XRAI:\\n\\nhttp://xrai.com\\n\\nTable of Contents:\\nDiscussing Open Assistant and Fine-tuning Language Models [\\n\\n00:00:00\\n\\n]\\nOpen Assistant and Data Collection [\\n\\n00:16:00\\n\\n]\\nData Collection and User Preferences [\\n\\n00:32:00\\n\\n]\\nAddressing Criticisms and Ethical Considerations [\\n\\n00:38:00\\n\\n]\\nEthical Guidelines and Open AI Research [\\n\\n00:48:00\\n\\nChapters\\n      \\n    \\n  \\n  \\n  \\n  \\n  \\n  \\n  View all\\n\\nDiscussing Open Assistant and Fine-tuning Language Models\\n    Discussing Open Assistant and Fine-tuning Language Models\\n    0:00\\n\\nDiscussing Open Assistant and Fine-tuning Language Models\\n\\n0:00\\n\\nOpen Assistant and Data Collection\\n    Open Assistant and Data Collection\\n    16:00\\n\\nOpen Assistant and Data Collection\\n\\n16:00\\n\\nData Collection and User Preferences\\n    Data Collection and User Preferences\\n    32:00\\n\\nData Collection and User Preferences\\n\\n32:00\\n\\nAddressing Criticisms and Ethical Considerations\\n    Addressing Criticisms and Ethical Considerations\\n    38:00\\n\\nAddressing Criticisms and Ethical Considerations\\n\\n38:00\\n\\nTranscript\\n\\nFollow along using the transcript.\\n\\nShow transcript\\n\\nMachine Learning Street Talk\\n    \\n      120K subscribers\\n\\nVideos\\n\\nAbout\\n\\nVideos\\n\\nAbout\\n\\nPatreon\\n\\nDiscord\\n\\nLinkedIn\\n\\nTwitter\\n\\nComments\\n      223\\n\\nTop comments\\n\\nNewest first\\n\\nTranscript\\n\\nNaN / NaN\\n\\nOPENASSISTANT TAKES ON CHATGPT!\\n\\nMachine Learning Street Talk\\n\\nMachine Learning Street Talk\\n\\n<__slot-el>\\n\\nSubscribe\\n\\nSubscribed\\n\\n1.5K\\n\\nShare\\n\\nDownload\\n\\nDownload\\n\\nSave\\n\\n47K views\\n\\n1 year ago\\n\\n47,942 views • 19 Apr 2023\\n\\nPatreon: \\xa0\\xa0/\\xa0mlst\\xa0\\xa0\\nDiscord: \\xa0\\xa0/\\xa0discord\\xa0\\xa0\\nTwitter: \\xa0\\xa0/\\xa0mlstreettalk\\n\\nChapters\\n      \\n    \\n  \\n  \\n  \\n  \\n  \\n  \\n  View all\\n\\nDiscussing Open Assistant and Fine-tuning Language Models\\n    Discussing Open Assistant and Fine-tuning Language Models\\n    0:00\\n\\nDiscussing Open Assistant and Fine-tuning Language Models\\n\\n0:00\\n\\nOpen Assistant and Data Collection\\n    Open Assistant and Data Collection\\n    16:00\\n\\nOpen Assistant and Data Collection\\n\\n16:00\\n\\nData Collection and User Preferences\\n    Data Collection and User Preferences\\n    32:00\\n\\nData Collection and User Preferences\\n\\n32:00\\n\\nAddressing Criticisms and Ethical Considerations\\n    Addressing Criticisms and Ethical Considerations\\n    38:00\\n\\nAddressing Criticisms and Ethical Considerations\\n\\n38:00\\n\\nEthical Guidelines and Open AI Research\\n    Ethical Guidelines and Open AI Research\\n    48:00\\n\\nEthical Guidelines and Open AI Research\\n\\n48:00\\n\\nTranscript\\n\\nFollow along using the transcript.\\n\\nShow transcript\\n\\nMachine Learning Street Talk\\n    \\n      120K subscribers\\n\\nVideos\\n\\nAbout\\n\\nVideos\\n\\nAbout\\n\\nPatreon\\n\\nDiscord\\n\\nLinkedIn\\n\\nTwitter\\n\\nOPENASSISTANT TAKES ON CHATGPT!\\n\\n47,942 views\\n\\n47K views\\n\\n1.5K\\n\\nShare\\n\\nDownload\\n\\nDownload\\n\\nSave\\n\\nShop the Machine Learning Street Talk store\\n\\nMLST new logo design (April 24) Women's Classic Tee\\n            \\n              \\n                \\n                \\n                  ₹2,085.21\\n                  \\n                    \\n                  \\n                \\n              \\n            \\n            \\n              \\n                Spring\\n                \\n              \\n              \\n              \\n            \\n          \\n          \\n            \\n              \\n            \\n            Updated Custom designed graphic is printed in vivid color and high resolution using state of the art color transfer technology. Shirts are made from super soft 100% preshrunk cotton. Printed in the USA. Guaranteed to last through hundreds of washes.\\n          \\n        \\n      \\n      \\n        Shop\\n        \\n          Spring\\n\\nMLST new logo design (April 24) Indoor Pillow\\n            \\n              \\n                \\n                \\n                  ₹2,418.97\\n                  \\n                    \\n                  \\n                \\n              \\n            \\n            \\n              \\n                Spring\\n                \\n              \\n              \\n              \\n            \\n          \\n          \\n            \\n              \\n            \\n            Updated Ultra plush decorative throw pillow. Suitable for indoor use. Designed by independent artists and printed in USA. Plush soft feel. Easy to wash.\\n          \\n        \\n      \\n      \\n        Shop\\n        \\n          Spring\\n\\nMLST new logo design (April 24) Camping mug\\n            \\n              \\n                \\n                \\n                  ₹1,417.68\\n                  \\n                    \\n                  \\n                \\n              \\n            \\n            \\n              \\n                Spring\\n                \\n              \\n              \\n              \\n            \\n          \\n          \\n            \\n              \\n            \\n            Updated\\n          \\n        \\n      \\n      \\n        Shop\\n        \\n          Spring\\n\\nMLST new logo design (April 24) Premium Ring-Spun Cotton T-Shirt\\n            \\n              \\n                \\n                \\n                  ₹2,252.09\\n                  \\n                    \\n                  \\n                \\n              \\n            \\n            \\n              \\n                Spring\\n                \\n              \\n              \\n              \\n            \\n          \\n          \\n            \\n              \\n            \\n            Updated Custom designed graphic is printed in vivid color and high resolution using state of the art color transfer technology. Shirts are made from super soft 100% combed ringspun cotton. Printed in the USA.\\n          \\n        \\n      \\n      \\n        Shop\\n        \\n          Spring\\n\\nAGI Twitter Map Meme Mug\\n            \\n              \\n                \\n                \\n                  ₹1,417.68\\n                  \\n                    \\n                  \\n                \\n              \\n            \\n            \\n              \\n                Spring\\n                \\n              \\n              \\n              \\n            \\n          \\n          \\n            \\n              \\n            \\n            AI people on twitter segmented into quadrants\\n          \\n        \\n      \\n      \\n        Shop\\n        \\n          Spring\\n\\nMLST new logo design (April 24) Mug\\n            \\n              \\n                \\n                \\n                  ₹1,334.24\\n                  \\n                    \\n                  \\n                \\n              \\n            \\n            \\n              \\n                Spring\\n                \\n              \\n              \\n              \\n            \\n          \\n          \\n            \\n              \\n            \\n            Updated\\n          \\n        \\n      \\n      \\n        Shop\\n        \\n          Spring\\n\\n1:57:30\\n    1:57:30\\n  Now playing\\n\\n28 - Suing Labs for AI Risk with Gabriel Weil\\n          \\n        \\n        \\n          \\n          \\n\\n  \\n    \\n  \\n    AXRP\\n  \\n  \\n  \\n    AXRP\\n  \\n\\n\\n\\n\\n\\n\\n    •\\n    \\n  \\n  \\n    \\n    \\n    •\\n    \\n      119 views\\n    \\n      2 weeks ago\\n\\n52:02\\n    52:02\\n  Now playing\\n\\nThe Danger of AI | Scary Technology | Artificial Intelligence | Documentary\\n          \\n        \\n        \\n          \\n          \\n\\n  \\n    \\n  \\n    Moconomy\\n  \\n  \\n  \\n    Moconomy\\n  \\n\\n\\n\\n\\n\\n    •\\n    \\n  \\n  \\n    \\n    \\n    •\\n    \\n      753K views\\n    \\n      1 year ago\\n\\n1:37:10\\n    1:37:10\\n  Now playing\\n\\nDr. THOMAS PARR - Active Inference\\n          \\n        \\n        \\n          \\n          \\n\\n  \\n    \\n  \\n    Machine Learning Street Talk\\n  \\n  \\n  \\n    Machine Learning Street Talk\\n  \\n\\n\\n\\n\\n\\n\\n    •\\n    \\n  \\n  \\n    \\n    \\n    •\\n    \\n      3.2K views\\n    \\n      12 hours ago\\n    \\n  \\n\\n\\n  \\n\\n\\n\\n          \\n          New\\n\\n55:41\\n    55:41\\n  Now playing\\n\\nConnor Leahy Unveils the Darker Side of AI\\n          \\n        \\n        \\n          \\n          \\n\\n  \\n    \\n  \\n    Eye on AI\\n  \\n  \\n  \\n    Eye on AI\\n  \\n\\n\\n\\n\\n\\n\\n    •\\n    \\n  \\n  \\n    \\n    \\n    •\\n    \\n      209K views\\n    \\n      11 months ago\\n\\n16:56\\n    16:56\\n  Now playing\\n\\nBig Tech AI Is A Lie\\n          \\n        \\n        \\n          \\n          \\n\\n  \\n    \\n  \\n    Tina Huang\\n  \\n  \\n  \\n    Tina Huang\\n  \\n\\n\\n\\n\\n\\n    •\\n    \\n  \\n  \\n    \\n    \\n    •\\n    \\n      37K views\\n    \\n      1 day ago\\n    \\n  \\n\\n\\n  \\n\\n\\n\\n          \\n          New\\n\\n37:03\\n    37:03\\n  Now playing\\n\\nSomething Strange Happens When You Follow Einstein's Math\\n          \\n        \\n        \\n          \\n          \\n\\n  \\n    \\n  \\n    Veritasium\\n  \\n  \\n  \\n    Veritasium\\n  \\n\\n\\n\\n\\n\\n    •\\n    \\n  \\n  \\n    \\n    \\n    •\\n    \\n      4.5M views\\n    \\n      2 days ago\\n    \\n  \\n\\n\\n  \\n\\n\\n\\n          \\n          New\\n\\n9:49\\n    9:49\\n  Now playing\\n\\npreparing for google's machine learning interview\\n          \\n        \\n        \\n          \\n          \\n\\n  \\n    \\n  \\n    eniolaa\\n  \\n  \\n  \\n    eniolaa\\n  \\n\\n\\n\\n\\n\\n\\n    •\\n    \\n  \\n  \\n    \\n    \\n    •\\n    \\n      51K views\\n    \\n      2 years ago\\n\\n13:23\\n    13:23\\n  Now playing\\n\\nNvidia CEO Jensen Huang and the $2 trillion company powering today's AI | 60 Minutes\\n          \\n        \\n        \\n          \\n          \\n\\n  \\n    \\n  \\n    60 Minutes\\n  \\n  \\n  \\n    60 Minutes\\n  \\n\\n\\n\\n\\n\\n    •\\n    \\n  \\n  \\n    \\n    \\n    •\\n    \\n      486K views\\n    \\n      3 days ago\\n    \\n  \\n\\n\\n  \\n\\n\\n\\n          \\n          New\\n\\n19:11\\n    19:11\\n  Now playing\\n\\nThis is what DeepMind just did to Football with AI...\\n          \\n        \\n        \\n          \\n          \\n\\n  \\n    \\n  \\n    Machine Learning Street Talk\\n  \\n  \\n  \\n    Machine Learning Street Talk\\n  \\n\\n\\n\\n\\n\\n\\n    •\\n    \\n  \\n  \\n    \\n    \\n    •\\n    \\n      144K views\\n    \\n      3 weeks ago\\n\\n51:51\\n    51:51\\n  Now playing\\n\\n#80 AIDAN GOMEZ [CEO Cohere] - Language as Software\\n          \\n        \\n        \\n          \\n          \\n\\n  \\n    \\n  \\n    Machine Learning Street Talk\\n  \\n  \\n  \\n    Machine Learning Street Talk\\n  \\n\\n\\n\\n\\n\\n\\n    •\\n    \\n  \\n  \\n    \\n    \\n    •\\n    \\n      19K views\\n    \\n      1 year ago\\n\\n15:43\\n    15:43\\n  Now playing\\n\\nNeil deGrasse Tyson Describes How the Universe Will End\\n          \\n        \\n        \\n          \\n          \\n\\n  \\n    \\n  \\n    StarTalk\\n  \\n  \\n  \\n    StarTalk\\n  \\n\\n\\n\\n\\n\\n    •\\n    \\n  \\n  \\n    \\n    \\n    •\\n    \\n      203K views\\n    \\n      1 day ago\\n    \\n  \\n\\n\\n  \\n\\n\\n\\n          \\n          New\\n\\n11:39\\n    11:39\\n  Now playing\\n\\nNew Boston Dynamics HUMANOID Robot ATLAS SHOCKS The World!\\n          \\n        \\n        \\n          \\n          \\n\\n  \\n    \\n  \\n    AI Uncovered\\n  \\n  \\n  \\n    AI Uncovered\\n  \\n\\n\\n\\n\\n\\n\\n    •\\n    \\n  \\n  \\n    \\n    \\n    •\\n    \\n      9.3K views\\n    \\n      1 day ago\\n    \\n  \\n\\n\\n  \\n\\n\\n\\n          \\n          New\\n\\n1:23:00\\n    1:23:00\\n  Now playing\\n\\nProf. Chris Bishop's NEW Deep Learning Textbook!\\n          \\n        \\n        \\n          \\n          \\n\\n  \\n    \\n  \\n    Machine Learning Street Talk\\n  \\n  \\n  \\n    Machine Learning Street Talk\\n  \\n\\n\\n\\n\\n\\n\\n    •\\n    \\n  \\n  \\n    \\n    \\n    •\\n    \\n      69K views\\n    \\n      3 weeks ago\\n\\n30:10\\n    30:10\\n  Now playing\\n\\nThe Inside Story of ChatGPT’s Astonishing Potential | Greg Brockman | TED\\n          \\n        \\n        \\n          \\n          \\n\\n  \\n    \\n  \\n    TED\\n  \\n  \\n  \\n    TED\\n  \\n\\n\\n\\n\\n\\n    •\\n    \\n  \\n  \\n    \\n    \\n    •\\n    \\n      1.7M views\\n    \\n      1 year ago\\n\\n12:14\\n    12:14\\n  Now playing\\n\\nI Tried 200 AI Tools, These are the Best\\n          \\n        \\n        \\n          \\n          \\n\\n  \\n    \\n  \\n    Futurepedia\\n  \\n  \\n  \\n    Futurepedia\\n  \\n\\n\\n\\n\\n\\n    •\\n    \\n  \\n  \\n    \\n    \\n    •\\n    \\n      1.5M views\\n    \\n      1 year ago\\n\\n2:10:39\\n    2:10:39\\n  Now playing\\n\\nDemis Hassabis: DeepMind - AI, Superintelligence & the Future of Humanity | Lex Fridman Podcast #299\\n          \\n        \\n        \\n          \\n          \\n\\n  \\n    \\n  \\n    Lex Fridman\\n  \\n  \\n  \\n    Lex Fridman\\n  \\n\\n\\n\\n\\n\\n    •\\n    \\n  \\n  \\n    \\n    \\n    •\\n    \\n      1.4M views\\n    \\n      1 year ago\" metadata={'source': 'https://www.youtube.com/watch?v=TFa539R09EQ&t=139s'}\n"
     ]
    }
   ],
   "source": [
    "from langchain.document_loaders import SeleniumURLLoader\n",
    "\n",
    "urls = [\n",
    "    \"https://www.youtube.com/watch?v=TFa539R09EQ&t=139s\",\n",
    "    \"https://www.youtube.com/watch?v=6Zv6A_9urh4&t=112s\"\n",
    "]\n",
    "\n",
    "loader = SeleniumURLLoader(urls=urls)\n",
    "data = loader.load()\n",
    "\n",
    "print(data[0])"
   ]
  },
  {
   "cell_type": "code",
   "execution_count": null,
   "id": "08fe5b9f-7b22-4f64-8040-85904860d2db",
   "metadata": {},
   "outputs": [],
   "source": []
  }
 ],
 "metadata": {
  "kernelspec": {
   "display_name": "Python 3 (ipykernel)",
   "language": "python",
   "name": "python3"
  },
  "language_info": {
   "codemirror_mode": {
    "name": "ipython",
    "version": 3
   },
   "file_extension": ".py",
   "mimetype": "text/x-python",
   "name": "python",
   "nbconvert_exporter": "python",
   "pygments_lexer": "ipython3",
   "version": "3.12.3"
  }
 },
 "nbformat": 4,
 "nbformat_minor": 5
}
