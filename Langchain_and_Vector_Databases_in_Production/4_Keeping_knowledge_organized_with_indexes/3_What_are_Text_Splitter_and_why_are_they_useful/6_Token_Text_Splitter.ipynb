{
 "cells": [
  {
   "cell_type": "raw",
   "id": "99f66cfe-7768-4476-83c1-7b83c91e23b9",
   "metadata": {},
   "source": [
    "The main advantage of using TokenTextSplitter over other text splitters, like CharacterTextSplitter, is that it respects the token boundaries, ensuring that the chunks do not split tokens in the middle. This can be particularly helpful in maintaining the semantic integrity of the text when working with language models and embeddings.\n",
    "\n",
    "This type of splitter breaks down raw text strings into smaller pieces by initially converting the text into BPE (Byte Pair Encoding) tokens, and subsequently dividing these tokens into chunks."
   ]
  },
  {
   "cell_type": "code",
   "execution_count": 5,
   "id": "fdaf323a-548c-49cc-a858-d5f69c558cb4",
   "metadata": {},
   "outputs": [
    {
     "name": "stdout",
     "output_type": "stream",
     "text": [
      "International Villager is first album by Yo Yo Honey Singh, released on 11 November 2011.\n",
      "\n",
      "The song \"Gabru\" from the album had spent some time on top of the iTunes charts.[2]\n",
      "\n",
      "The music videos for the tracks \"Dope Shope\", \"Gabru\", \"Angreji Beat\", \"Goliyan\", \"Get Up Jawani\" and \"Brown Rang\" from the album have since been released. The music video of \"Brown Rang\"\n"
     ]
    }
   ],
   "source": [
    "from langchain.text_splitter import TokenTextSplitter\n",
    "\n",
    "# Load a long document\n",
    "with open(r\"C:\\Users\\SACHENDRA\\Documents\\Activeloop\\Langchain_and_Vector_Databases_in_Production\\4_Keeping_knowledge_organized_with_indexes\\2_Streamlined_Data_Ingestion\\my_file.txt\", encoding= 'unicode_escape') as f:\n",
    "    sample_text = f.read()\n",
    "\n",
    "# Initialize the TokenTextSplitter with desired chunk size and overlap\n",
    "text_splitter = TokenTextSplitter(chunk_size=100, chunk_overlap=50)\n",
    "\n",
    "# Split into smaller chunks\n",
    "texts = text_splitter.split_text(sample_text)\n",
    "print(texts[0])"
   ]
  },
  {
   "cell_type": "code",
   "execution_count": null,
   "id": "b81b839e-0f3b-4bce-b740-d08bb2c51ac3",
   "metadata": {},
   "outputs": [],
   "source": []
  }
 ],
 "metadata": {
  "kernelspec": {
   "display_name": "Python 3 (ipykernel)",
   "language": "python",
   "name": "python3"
  },
  "language_info": {
   "codemirror_mode": {
    "name": "ipython",
    "version": 3
   },
   "file_extension": ".py",
   "mimetype": "text/x-python",
   "name": "python",
   "nbconvert_exporter": "python",
   "pygments_lexer": "ipython3",
   "version": "3.12.3"
  }
 },
 "nbformat": 4,
 "nbformat_minor": 5
}
