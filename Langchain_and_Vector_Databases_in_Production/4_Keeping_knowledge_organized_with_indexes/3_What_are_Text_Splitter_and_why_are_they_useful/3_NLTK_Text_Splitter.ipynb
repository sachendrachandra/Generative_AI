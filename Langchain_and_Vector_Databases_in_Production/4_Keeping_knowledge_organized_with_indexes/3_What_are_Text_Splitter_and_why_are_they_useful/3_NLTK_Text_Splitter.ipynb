{
 "cells": [
  {
   "cell_type": "raw",
   "id": "5ffbee1f-c32b-437a-a95b-2b3f491e321f",
   "metadata": {},
   "source": [
    "The NLTKTextSplitter in LangChain is an implementation of a text splitter that uses the Natural Language Toolkit (NLTK) library to split text based on tokenizers. The goal is to split long texts into smaller chunks without breaking the structure of sentences and paragraphs."
   ]
  },
  {
   "cell_type": "code",
   "execution_count": 2,
   "id": "029290e8-e457-44d4-a5b4-00543dc1e126",
   "metadata": {},
   "outputs": [
    {
     "name": "stdout",
     "output_type": "stream",
     "text": [
      "['International Villager is first album by Yo Yo Honey Singh, released on 11 November 2011.\\n\\nThe song \"Gabru\" from the album had spent some time on top of the iTunes charts.\\n\\n[2]\\n\\nThe music videos for the tracks \"Dope Shope\", \"Gabru\", \"Angreji Beat\", \"Goliyan\", \"Get Up Jawani\" and \"Brown Rang\" from the album have since been released.\\n\\nThe music video of \"Brown Rang\" was YouTube\\'s most trending video in India in 2012.', 'The music video of \"Brown Rang\" was YouTube\\'s most trending video in India in 2012.\\n\\n[3]\\n\\nThe song \"Angreji Beat\", was used in the soundtrack of the film Cocktail (2012).\\n\\nInternational Villager has become the highest grossing Punjabi album of all time.\\n\\n[4]\\n\\nThe song \"Brown Rang\", was recreated as \"Kudiye Ni Tere\" for the film Starfish (2023).']\n"
     ]
    }
   ],
   "source": [
    "from langchain.text_splitter import NLTKTextSplitter\n",
    "\n",
    "# Load a long document\n",
    "with open(r'C:\\Users\\SACHENDRA\\Documents\\Activeloop\\Langchain_and_Vector_Databases_in_Production\\4_Keeping_knowledge_organized_with_indexes\\2_Streamlined_Data_Ingestion\\my_file.txt', encoding= 'unicode_escape') as f:\n",
    "    sample_text = f.read()\n",
    "\n",
    "text_splitter = NLTKTextSplitter(chunk_size=500)\n",
    "texts = text_splitter.split_text(sample_text)\n",
    "print(texts)"
   ]
  },
  {
   "cell_type": "code",
   "execution_count": null,
   "id": "80080d7a-959c-499e-8b25-0595138a4a88",
   "metadata": {},
   "outputs": [],
   "source": []
  }
 ],
 "metadata": {
  "kernelspec": {
   "display_name": "Python 3 (ipykernel)",
   "language": "python",
   "name": "python3"
  },
  "language_info": {
   "codemirror_mode": {
    "name": "ipython",
    "version": 3
   },
   "file_extension": ".py",
   "mimetype": "text/x-python",
   "name": "python",
   "nbconvert_exporter": "python",
   "pygments_lexer": "ipython3",
   "version": "3.12.3"
  }
 },
 "nbformat": 4,
 "nbformat_minor": 5
}
