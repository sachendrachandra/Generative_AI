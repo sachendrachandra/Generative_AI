{
 "cells": [
  {
   "cell_type": "markdown",
   "id": "fa4aec77-6f37-46dd-9852-a3877344c7af",
   "metadata": {},
   "source": [
    "In this lesson, we are going to delve into a use case of AI technology in the creative domain of children's picture book creation in a project called \"FableForge\", leveraging both OpenAI GPT-3.5 LLM for writing the story and Stable Diffusion for generating images for it."
   ]
  },
  {
   "cell_type": "markdown",
   "id": "fa5879ee-bd27-4861-8c79-f9f40c0250cb",
   "metadata": {},
   "source": [
    "For Various Code use the following github repo: https://github.com/e-johnstonn/FableForge/tree/master\n",
    "\n",
    "\n",
    "Building FableForge:\n",
    "\n",
    "FableForge consists of four main components:\n",
    "\n",
    "1 .The generation of the text and images\n",
    "2. The combining of the text and images to create the book\n",
    "3. Saving the images and prompts to the Deep Lake dataset\n",
    "4. The UI\n"
   ]
  },
  {
   "cell_type": "code",
   "execution_count": null,
   "id": "da4d1700-0526-44b7-a402-60f274383700",
   "metadata": {},
   "outputs": [],
   "source": []
  }
 ],
 "metadata": {
  "kernelspec": {
   "display_name": "Python 3 (ipykernel)",
   "language": "python",
   "name": "python3"
  },
  "language_info": {
   "codemirror_mode": {
    "name": "ipython",
    "version": 3
   },
   "file_extension": ".py",
   "mimetype": "text/x-python",
   "name": "python",
   "nbconvert_exporter": "python",
   "pygments_lexer": "ipython3",
   "version": "3.12.3"
  }
 },
 "nbformat": 4,
 "nbformat_minor": 5
}
