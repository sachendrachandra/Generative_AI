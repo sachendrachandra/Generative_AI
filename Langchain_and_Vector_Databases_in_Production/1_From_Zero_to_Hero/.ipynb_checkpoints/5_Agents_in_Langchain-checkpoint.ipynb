{
 "cells": [
  {
   "cell_type": "code",
   "execution_count": 8,
   "id": "8fafdfb7-070d-4377-bab1-6855d770d9e3",
   "metadata": {},
   "outputs": [
    {
     "data": {
      "text/plain": [
       "True"
      ]
     },
     "execution_count": 8,
     "metadata": {},
     "output_type": "execute_result"
    }
   ],
   "source": [
    "# Before executing the following code, make sure to have your\n",
    "# Activeloop key saved in the “ACTIVELOOP_TOKEN” environment variable.\n",
    "\n",
    "from dotenv import load_dotenv, dotenv_values\n",
    "import os\n",
    "\n",
    "# Load environment variables from .env file\n",
    "config = dotenv_values(\"C:/Users/SACHENDRA/Documents/Activeloop/.env\")\n",
    "load_dotenv(\"C:/Users/SACHENDRA/Documents/Activeloop/.env\")"
   ]
  },
  {
   "cell_type": "code",
   "execution_count": 9,
   "id": "c18d2d57-4a19-49c4-9068-db61a20bd659",
   "metadata": {},
   "outputs": [],
   "source": [
    "from langchain.utilities import GoogleSearchAPIWrapper\n",
    "from langchain.tools import Tool\n",
    "\n",
    "search = GoogleSearchAPIWrapper()\n",
    "\n",
    "tool = Tool(\n",
    "    name=\"google_search\",\n",
    "    description=\"Search Google for recent results.\",\n",
    "    func=search.run,\n",
    ")"
   ]
  },
  {
   "cell_type": "code",
   "execution_count": 12,
   "id": "3a8706f6-8857-40f7-90a8-7fb6d37e844d",
   "metadata": {},
   "outputs": [
    {
     "data": {
      "text/plain": [
       "\"Full Maiden Name of Mother. STANLEY. 15. Age of Mother 16. 18. Yes. No. 9. Race of Father. OBAMA. African. Usual Occupation. 12b. Student. DUNHAM. Kind of\\xa0... Kwame Raoul · Barack Hussein Obama II. (1961-08-04) August 4, 1961 (age 62) Honolulu, Hawaii, U.S.. Apr 2, 2018 ... ... haseena 'Husn' or beauty is derived. So BARACK HUSSEIN OBAMA (Obama is common bantu word) So first name BA... At the first-ever Global AI Summit last year, I laid out our vision for a future where AI advances the public interest. To help build that future, I am\\xa0... Apr 7, 2021 ... No, Obama is secretly his last name, his first name is obviously Joe, though. Joe Obama. Joebama. First Lady Michelle LaVaughn Robinson Obama is a lawyer, writer, and the wife of the 44th President, Barack Obama. She is the first African-American First\\xa0... Jan 20, 2017 ... Hopeful parents named their sons for the first Black president, whose name is a variation of the Hebrew name Baruch, which means “blessed”\\xa0... May 19, 2010 ... President Barack Obama greets a boy, whose first name is also Barack, following the President's remarks on health care at the University of\\xa0... Early Life and Career. First Lady Michelle Obama. Michelle Robinson Obama was born in DeYoung, Illinois, on January 17,\\xa0... Jan 20, 2024 ... Trump has a long history of using race, ethnicity and immigrant heritage as a cudgel. For years, he has referred to Obama as “Barack Hussein\\xa0...\""
      ]
     },
     "execution_count": 12,
     "metadata": {},
     "output_type": "execute_result"
    }
   ],
   "source": [
    "tool.run(\"Obama's first name?\")"
   ]
  },
  {
   "cell_type": "code",
   "execution_count": 13,
   "id": "d86c4ca4-902f-459a-86ca-bb1ae835569f",
   "metadata": {},
   "outputs": [],
   "source": [
    "'''\n",
    "You can use the k parameter to set the number of results\n",
    "'''\n",
    "search = GoogleSearchAPIWrapper(k=1)\n",
    "\n",
    "tool = Tool(\n",
    "    name=\"I'm Feeling Lucky\",\n",
    "    description=\"Search Google and return the first result.\",\n",
    "    func=search.run,\n",
    ")"
   ]
  },
  {
   "cell_type": "code",
   "execution_count": 14,
   "id": "6d2bcccd-8355-48cd-92b0-4f4c9daf8a72",
   "metadata": {},
   "outputs": [
    {
     "data": {
      "text/plain": [
       "'The official home of the Python Programming Language.'"
      ]
     },
     "execution_count": 14,
     "metadata": {},
     "output_type": "execute_result"
    }
   ],
   "source": [
    "tool.run(\"python\")"
   ]
  },
  {
   "cell_type": "code",
   "execution_count": 15,
   "id": "4446ff87-ff9a-417a-a433-bdaf71030586",
   "metadata": {},
   "outputs": [],
   "source": [
    "search = GoogleSearchAPIWrapper()\n",
    "\n",
    "\n",
    "def top5_results(query):\n",
    "    return search.results(query, 5)\n",
    "\n",
    "\n",
    "tool = Tool(\n",
    "    name=\"Google Search Snippets\",\n",
    "    description=\"Search Google for recent results.\",\n",
    "    func=top5_results,\n",
    ")"
   ]
  },
  {
   "cell_type": "code",
   "execution_count": 16,
   "id": "e6133449-055d-438e-b9ce-91ccfde9fc37",
   "metadata": {},
   "outputs": [
    {
     "data": {
      "text/plain": [
       "[{'title': 'India - Wikipedia',\n",
       "  'link': 'https://en.wikipedia.org/wiki/India',\n",
       "  'snippet': 'India has been a federal republic since 1950, governed through a democratic parliamentary system. It is a pluralistic, multilingual and multi-ethnic society.'},\n",
       " {'title': 'National Portal of India',\n",
       "  'link': 'https://www.india.gov.in/',\n",
       "  'snippet': 'National Portal of India provides a single-window access to information and services that are electronically delivered from all Government Departments,\\xa0...'},\n",
       " {'title': 'Incredible India: Official Website for Ministry of Tourism India',\n",
       "  'link': 'https://www.incredibleindia.org/',\n",
       "  'snippet': 'India has a myriad of landscapes, great heritage and culture, varied flora and fauna. The country is the most preferred tourist destinations for tourists\\xa0...'},\n",
       " {'title': 'Government of India, Department of Post',\n",
       "  'link': 'https://www.indiapost.gov.in/',\n",
       "  'snippet': 'India Post, Ministry of Communication & Technology.'},\n",
       " {'title': 'India | History, Map, Population, Economy, & Facts | Britannica',\n",
       "  'link': 'https://www.britannica.com/place/India',\n",
       "  'snippet': 'India is a country that occupies the greater part of South Asia. It is a constitutional republic that represents a highly diverse population consisting of\\xa0...'}]"
      ]
     },
     "execution_count": 16,
     "metadata": {},
     "output_type": "execute_result"
    }
   ],
   "source": [
    "tool.run(\"India\")"
   ]
  },
  {
   "cell_type": "code",
   "execution_count": 17,
   "id": "0424bdec-f22e-415a-b584-c2b4c02284b1",
   "metadata": {},
   "outputs": [],
   "source": [
    "'''\n",
    "now let's employ the LLM in the tool for the agent to decide which action to take and in which order along with google search API\n",
    "'''\n",
    "\n",
    "from langchain.llms import OpenAI\n",
    "\n",
    "from langchain.agents import AgentType\n",
    "from langchain.agents import load_tools\n",
    "from langchain.agents import initialize_agent\n",
    "\n",
    "from langchain.agents import Tool\n",
    "from langchain.utilities import GoogleSearchAPIWrapper"
   ]
  },
  {
   "cell_type": "code",
   "execution_count": 18,
   "id": "370cea7c-8c63-4723-a947-093715fe7d5c",
   "metadata": {},
   "outputs": [],
   "source": [
    "llm = OpenAI(model=\"gpt-3.5-turbo-instruct\", temperature=0)"
   ]
  },
  {
   "cell_type": "code",
   "execution_count": 19,
   "id": "12eae311-8a20-478c-888a-9a26fed6faa0",
   "metadata": {},
   "outputs": [],
   "source": [
    "search = GoogleSearchAPIWrapper()"
   ]
  },
  {
   "cell_type": "code",
   "execution_count": 20,
   "id": "9c89e9c9-8523-4974-9fce-b47e185cad8f",
   "metadata": {},
   "outputs": [],
   "source": [
    "tools = [\n",
    "    Tool(\n",
    "        name = \"google-search\",\n",
    "        func=search.run,\n",
    "        description=\"useful for when you need to search google to answer questions about current events\"\n",
    "    )\n",
    "]"
   ]
  },
  {
   "cell_type": "code",
   "execution_count": 21,
   "id": "5bf0437a-1344-47cb-b4bb-7e6fd449f79f",
   "metadata": {},
   "outputs": [],
   "source": [
    "agent = initialize_agent(tools, \n",
    "                         llm, \n",
    "                         agent=AgentType.ZERO_SHOT_REACT_DESCRIPTION, \n",
    "                         verbose=True,\n",
    "                         max_iterations=6)"
   ]
  },
  {
   "cell_type": "code",
   "execution_count": 22,
   "id": "3e341d6f-1065-4638-9091-7eac7fc645b6",
   "metadata": {},
   "outputs": [
    {
     "name": "stdout",
     "output_type": "stream",
     "text": [
      "\n",
      "\n",
      "\u001b[1m> Entering new  chain...\u001b[0m\n",
      "\u001b[32;1m\u001b[1;3m I should search for news articles about the Mars rover.\n",
      "Action: google-search\n",
      "Action Input: \"Mars rover news\"\u001b[0m\n",
      "Observation: \u001b[36;1m\u001b[1;3mThe most surprising revelation from NASA's Curiosity Mars Rover — that methane is seeping from the surface of Gale Crater — has scientists scratching their ... Mar 19, 2024 ... Is the Mars rover's rock collection worth $11 billion? ... An image from NASA's Mars Perseverance rover ... News 25 APR 24. The rover has arrived at an area that may show evidence liquid water flowed on this part of Mars for much longer than previously thought. NASA's Curiosity rover ... Apr 25, 2023 ... The fully robotic Zhurong, named after a mythical Chinese god of fire, was expected to have woken up in December after entering a planned sleep ... Aug 6, 2012 ... ... Curiosity is doing with the public. Curiosity News & Features. Explore All Curiosity Stories · Article. 5 min read. Why is Methane Seeping on ... Curiosity Rover · Nasa's Mars rover finds mysterious metallic object on Red Planet · Nasa's Curiosity rover celebrates its 10th birthday on Mars · Weird rock ... Oct 19, 2022 ... ... Curiosity, visit: http://mars.nasa.gov/msl. Get the Latest JPL News. SUBSCRIBE TO THE NEWSLETTER. News Media Contact. Andrew Good. Jet ... Dec 13, 2023 ... Nasa says its Perseverance rover has essentially completed the job it was asked to do when it landed on Mars in February 2021. Dec 15, 2021 ... These and other findings were presented today during a news briefing at the American Geophysical Union fall science meeting in New Orleans. Even ... Jul 19, 2023 ... The six-wheeled geologist is getting some assistance in its in search for diverse rock samples that could be brought to Earth for deeper ...\u001b[0m\n",
      "Thought:\u001b[32;1m\u001b[1;3m I should read through the articles to gather information about the latest news on the Mars rover.\n",
      "Action: google-search\n",
      "Action Input: \"Mars rover latest news\"\u001b[0m\n",
      "Observation: \u001b[36;1m\u001b[1;3mThe rover has arrived at an area that may show evidence liquid water flowed on this part of Mars for much longer than previously thought. NASA's Curiosity rover ... Apr 13, 2023 ... Seen here is the rover's view of a hill nicknamed “Bolívar,” with Gale Crater's vast floor in the upper right. Credit: NASA/JPL-Caltech/MSSS. After completing a major software update in April, NASA's Curiosity Mars rover took a last look at “Marker Band Valley” before leaving it behind, capturing a “ ... Curiosity Rover · Nasa's Mars rover finds mysterious metallic object on Red Planet · Nasa's Curiosity rover celebrates its 10th birthday on Mars · Weird rock ... Dec 15, 2021 ... Mars Sample Return is going to have great stuff to choose from!” Get the Latest JPL News. SUBSCRIBE TO THE NEWSLETTER. The multi-mission Mars ... Apr 25, 2023 ... China's Mars rover, which has been in longer-than-expected hibernation on the red planet since May 2022, has likely suffered excessive ... Jul 19, 2023 ... News Media Contacts ... Perseverance's CacheCam captured this image of the rover's latest cored sample – taken from an intriguing. The latest curiosity mars rover breaking news, comment, reviews and features from the experts at Space. Planet Mars News. Read astronomy articles on how Mars could have once supported life, the Mars Rover and more. See images and read full-text articles on ... Dec 13, 2023 ... Nasa says its Perseverance rover has essentially completed the job it was asked to do when it landed on Mars in February 2021.\u001b[0m\n",
      "Thought:\u001b[32;1m\u001b[1;3m I now know the latest news about the Mars rover.\n",
      "Final Answer: The latest news about the Mars rover is that it has arrived at an area that may show evidence of liquid water and has completed a major software update. It has also captured images of interesting rock formations and is preparing to collect samples for a potential future return to Earth.\u001b[0m\n",
      "\n",
      "\u001b[1m> Finished chain.\u001b[0m\n",
      "The latest news about the Mars rover is that it has arrived at an area that may show evidence of liquid water and has completed a major software update. It has also captured images of interesting rock formations and is preparing to collect samples for a potential future return to Earth.\n"
     ]
    }
   ],
   "source": [
    "response = agent(\"What's the latest news about the Mars rover?\")\n",
    "print(response['output'])"
   ]
  },
  {
   "cell_type": "code",
   "execution_count": null,
   "id": "a94818c3-fabf-42db-b427-afb6a31d8cac",
   "metadata": {},
   "outputs": [],
   "source": []
  }
 ],
 "metadata": {
  "kernelspec": {
   "display_name": "Python 3 (ipykernel)",
   "language": "python",
   "name": "python3"
  },
  "language_info": {
   "codemirror_mode": {
    "name": "ipython",
    "version": 3
   },
   "file_extension": ".py",
   "mimetype": "text/x-python",
   "name": "python",
   "nbconvert_exporter": "python",
   "pygments_lexer": "ipython3",
   "version": "3.12.3"
  }
 },
 "nbformat": 4,
 "nbformat_minor": 5
}
