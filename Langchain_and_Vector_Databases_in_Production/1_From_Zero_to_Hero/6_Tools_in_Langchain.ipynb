{
 "cells": [
  {
   "cell_type": "code",
   "execution_count": null,
   "id": "1a657ae4-acf5-429c-8343-6234f70eef69",
   "metadata": {},
   "outputs": [],
   "source": [
    "'''\n",
    "In our example, two tools are being defined for use within a LangChain agent: a Google Search tool and a Language Model tool acting specifically as a text summarizer.\n",
    "The Google Search tool, using the GoogleSearchAPIWrapper, will handle queries that involve finding recent event information.\n",
    "The Language Model tool leverages the capabilities of a language model to summarize texts.\n",
    "These tools are designed to be used interchangeably by the agent, depending on the nature of the user's query.\n",
    "'''\n"
   ]
  },
  {
   "cell_type": "code",
   "execution_count": 1,
   "id": "ec625966-b1d8-4e94-9a91-817bc706eb10",
   "metadata": {},
   "outputs": [
    {
     "data": {
      "text/plain": [
       "True"
      ]
     },
     "execution_count": 1,
     "metadata": {},
     "output_type": "execute_result"
    }
   ],
   "source": [
    "# Before executing the following code, make sure to have your\n",
    "# Activeloop key saved in the “ACTIVELOOP_TOKEN” environment variable.\n",
    "\n",
    "from dotenv import load_dotenv, dotenv_values\n",
    "import os\n",
    "\n",
    "# Load environment variables from .env file\n",
    "config = dotenv_values(\"C:/Users/SACHENDRA/Documents/Activeloop/.env\")\n",
    "load_dotenv(\"C:/Users/SACHENDRA/Documents/Activeloop/.env\")"
   ]
  },
  {
   "cell_type": "code",
   "execution_count": 2,
   "id": "69450f79-87c1-4c4a-be7e-990a1bcb22f9",
   "metadata": {},
   "outputs": [
    {
     "name": "stderr",
     "output_type": "stream",
     "text": [
      "C:\\Users\\SACHENDRA\\miniconda3\\envs\\activeloop2\\Lib\\site-packages\\deeplake\\util\\check_latest_version.py:32: UserWarning: A newer version of deeplake (3.9.1) is available. It's recommended that you update to the latest version using `pip install -U deeplake`.\n",
      "  warnings.warn(\n"
     ]
    }
   ],
   "source": [
    "from langchain.llms import OpenAI\n",
    "from langchain.agents import Tool\n",
    "from langchain.utilities import GoogleSearchAPIWrapper\n",
    "from langchain.prompts import PromptTemplate\n",
    "from langchain.chains import LLMChain\n",
    "from langchain.agents import initialize_agent, AgentType"
   ]
  },
  {
   "cell_type": "code",
   "execution_count": 3,
   "id": "66f70ba3-cd42-4771-bc6a-45b4ffe0583a",
   "metadata": {},
   "outputs": [],
   "source": [
    "'''\n",
    "We then instantiate LLM specifically for text summarization\n",
    "'''\n",
    "\n",
    "llm = OpenAI(model=\"gpt-3.5-turbo-instruct\", temperature=0)\n",
    "\n",
    "prompt = PromptTemplate(\n",
    "    input_variables=[\"query\"],\n",
    "    template=\"Write a summary of the following text: {query}\"\n",
    ")\n",
    "\n",
    "summarize_chain = LLMChain(llm=llm, prompt=prompt)"
   ]
  },
  {
   "cell_type": "code",
   "execution_count": 4,
   "id": "be810cfc-655c-4caf-904d-68bbb4fecf73",
   "metadata": {},
   "outputs": [],
   "source": [
    "# remember to set the environment variables\n",
    "# “GOOGLE_API_KEY” and “GOOGLE_CSE_ID” to be able to use\n",
    "# Google Search via API.\n",
    "search = GoogleSearchAPIWrapper()\n",
    "\n",
    "tools = [\n",
    "    Tool(\n",
    "        name=\"Search\",\n",
    "        func=search.run,\n",
    "        description=\"useful for finding information about recent events\"\n",
    "    ),\n",
    "    Tool(\n",
    "       name='Summarizer',\n",
    "       func=summarize_chain.run,\n",
    "       description='useful for summarizing texts'\n",
    "    )\n",
    "]"
   ]
  },
  {
   "cell_type": "code",
   "execution_count": 5,
   "id": "b49ecf91-af5a-47ef-9f8a-89c346b1a291",
   "metadata": {},
   "outputs": [],
   "source": [
    "agent = initialize_agent(\n",
    "    tools,\n",
    "    llm,\n",
    "    agent=AgentType.ZERO_SHOT_REACT_DESCRIPTION,\n",
    "    verbose=True  \n",
    ")"
   ]
  },
  {
   "cell_type": "code",
   "execution_count": 6,
   "id": "fd1ba80d-8122-40cc-a69f-2017f333918c",
   "metadata": {},
   "outputs": [
    {
     "name": "stdout",
     "output_type": "stream",
     "text": [
      "\n",
      "\n",
      "\u001b[1m> Entering new  chain...\u001b[0m\n",
      "\u001b[32;1m\u001b[1;3m I should use the Search tool to find recent news about the Mars rover.\n",
      "Action: Search\n",
      "Action Input: \"Mars rover news\"\u001b[0m\n",
      "Observation: \u001b[36;1m\u001b[1;3mThe most surprising revelation from NASA's Curiosity Mars Rover — that methane is seeping from the surface of Gale Crater — has scientists scratching their ... Mar 19, 2024 ... Is the Mars rover's rock collection worth $11 billion? ... An image from NASA's Mars Perseverance rover ... News 25 APR 24. The rover has arrived at an area that may show evidence liquid water flowed on this part of Mars for much longer than previously thought. NASA's Curiosity rover ... Apr 25, 2023 ... The fully robotic Zhurong, named after a mythical Chinese god of fire, was expected to have woken up in December after entering a planned sleep ... Curiosity Rover · Nasa's Mars rover finds mysterious metallic object on Red Planet · Nasa's Curiosity rover celebrates its 10th birthday on Mars · Weird rock ... Oct 19, 2022 ... ... Curiosity, visit: http://mars.nasa.gov/msl. Get the Latest JPL News. SUBSCRIBE TO THE NEWSLETTER. News Media Contact. Andrew Good. Jet ... Dec 13, 2023 ... Nasa says its Perseverance rover has essentially completed the job it was asked to do when it landed on Mars in February 2021. Dec 15, 2021 ... These and other findings were presented today during a news briefing at the American Geophysical Union fall science meeting in New Orleans. Even ... Jul 19, 2023 ... The six-wheeled geologist is getting some assistance in its in search for diverse rock samples that could be brought to Earth for deeper ... I explained that this incident was all my fault and I had failed to properly analyse the environment. I assured him that I was ready to bear full consequences, ...\u001b[0m\n",
      "Thought:\u001b[32;1m\u001b[1;3m Now that I have found recent news about the Mars rover, I should use the Summarizer tool to summarize the results.\n",
      "Action: Summarizer\n",
      "Action Input: \"Mars rover news\"\u001b[0m\n",
      "Observation: \u001b[33;1m\u001b[1;3m\n",
      "\n",
      "The text discusses recent news about Mars rovers, which are robotic vehicles designed to explore the surface of Mars. It mentions that NASA's Perseverance rover has successfully collected its first rock sample on the red planet, which will be analyzed for signs of ancient microbial life. The article also mentions that China's Zhurong rover has been exploring a different region of Mars and has sent back stunning images of the planet's surface. Additionally, the text mentions that the European Space Agency's Rosalind Franklin rover is set to launch in 2022 and will search for signs of past or present life on Mars. Overall, the article highlights the exciting advancements and discoveries being made by these rovers in our exploration of Mars.\u001b[0m\n",
      "Thought:\u001b[32;1m\u001b[1;3m I now know the final answer.\n",
      "Final Answer: Recent news about the Mars rover includes updates on NASA's Perseverance rover collecting its first rock sample, China's Zhurong rover exploring a different region of Mars, and the upcoming launch of the European Space Agency's Rosalind Franklin rover.\u001b[0m\n",
      "\n",
      "\u001b[1m> Finished chain.\u001b[0m\n",
      "Recent news about the Mars rover includes updates on NASA's Perseverance rover collecting its first rock sample, China's Zhurong rover exploring a different region of Mars, and the upcoming launch of the European Space Agency's Rosalind Franklin rover.\n"
     ]
    }
   ],
   "source": [
    "response = agent(\"What's the latest news about the Mars rover? Then please summarize the results.\")\n",
    "print(response['output'])"
   ]
  },
  {
   "cell_type": "code",
   "execution_count": null,
   "id": "1c07a35c-d010-4f54-91f3-20f6fda21257",
   "metadata": {},
   "outputs": [],
   "source": []
  }
 ],
 "metadata": {
  "kernelspec": {
   "display_name": "Python 3 (ipykernel)",
   "language": "python",
   "name": "python3"
  },
  "language_info": {
   "codemirror_mode": {
    "name": "ipython",
    "version": 3
   },
   "file_extension": ".py",
   "mimetype": "text/x-python",
   "name": "python",
   "nbconvert_exporter": "python",
   "pygments_lexer": "ipython3",
   "version": "3.12.3"
  }
 },
 "nbformat": 4,
 "nbformat_minor": 5
}
