{
 "cells": [
  {
   "cell_type": "code",
   "execution_count": 1,
   "id": "2563cc5b-9f41-40df-a5ee-da515225e25f",
   "metadata": {},
   "outputs": [
    {
     "name": "stdout",
     "output_type": "stream",
     "text": [
      "Requirement already satisfied: sqlalchemy in c:\\users\\sachendra\\miniconda3\\envs\\activeloop2\\lib\\site-packages (2.0.29)\n",
      "Requirement already satisfied: typing-extensions>=4.6.0 in c:\\users\\sachendra\\miniconda3\\envs\\activeloop2\\lib\\site-packages (from sqlalchemy) (4.11.0)\n",
      "Requirement already satisfied: greenlet!=0.4.17 in c:\\users\\sachendra\\miniconda3\\envs\\activeloop2\\lib\\site-packages (from sqlalchemy) (3.0.3)\n"
     ]
    }
   ],
   "source": [
    "!pip install --upgrade sqlalchemy"
   ]
  },
  {
   "cell_type": "code",
   "execution_count": 2,
   "id": "3a1420c5-94e2-401f-8d5c-938534d42ed8",
   "metadata": {
    "scrolled": true
   },
   "outputs": [
    {
     "name": "stderr",
     "output_type": "stream",
     "text": [
      "C:\\Users\\SACHENDRA\\miniconda3\\envs\\activeloop2\\Lib\\site-packages\\deeplake\\util\\check_latest_version.py:32: UserWarning: A newer version of deeplake (3.9.1) is available. It's recommended that you update to the latest version using `pip install -U deeplake`.\n",
      "  warnings.warn(\n"
     ]
    }
   ],
   "source": [
    "from langchain.llms import OpenAI"
   ]
  },
  {
   "cell_type": "code",
   "execution_count": 3,
   "id": "f8f2cd3e-3f3a-4c5b-a6a4-41c67c62427c",
   "metadata": {
    "scrolled": true
   },
   "outputs": [
    {
     "data": {
      "text/plain": [
       "True"
      ]
     },
     "execution_count": 3,
     "metadata": {},
     "output_type": "execute_result"
    }
   ],
   "source": [
    "from dotenv import load_dotenv, dotenv_values\n",
    "import os\n",
    "\n",
    "# Load environment variables from .env file\n",
    "config = dotenv_values(\"C:/Users/SACHENDRA/Documents/Activeloop/.env\")\n",
    "load_dotenv(\"C:/Users/SACHENDRA/Documents/Activeloop/.env\")"
   ]
  },
  {
   "cell_type": "code",
   "execution_count": 4,
   "id": "607e0c60-be1f-4cd8-9052-0d48f14d9696",
   "metadata": {},
   "outputs": [
    {
     "name": "stdout",
     "output_type": "stream",
     "text": [
      "\n",
      "\n",
      "Monday:\n",
      "Warm-up: 5 minute jog\n",
      "1. Hiking: 30 minutes at a moderate pace\n",
      "2. Trail running: 3 sets of 10 minutes at a fast pace with 2 minute rest in between\n",
      "3. Mountain climbers: 3 sets of 30 seconds with 15 second rest in between\n",
      "4. Jumping jacks: 3 sets of 1 minute with 30 second rest in between\n",
      "5. Cool down: 5 minute walk\n",
      "\n",
      "Tuesday:\n",
      "Warm-up: 5 minute jog\n",
      "1. Cycling: 30 minutes at a moderate pace\n",
      "2. HIIT workout: 3 sets of 1 minute sprints with 1 minute rest in between, followed by 3 sets of 30 seconds high knees with 30 seconds rest in between\n",
      "3. Squat jumps: 3 sets of 15 reps\n",
      "4. Push-ups: 3 sets of 10 reps\n",
      "5. Cool down: 5 minute walk\n",
      "\n",
      "Wednesday:\n",
      "Rest day or light yoga/stretching\n",
      "\n",
      "Thursday:\n",
      "Warm-up: 5 minute jog\n",
      "1. Swimming: 30 minutes at a steady pace\n",
      "2. Stair running: 3 sets of 5 minutes at a fast pace with 2 minute rest in\n"
     ]
    }
   ],
   "source": [
    "openai_api_key = os.getenv('OPENAI_API_KEY')\n",
    "llm = OpenAI(model=\"gpt-3.5-turbo-instruct\", temperature=0.9)\n",
    "text = \"Suggest a personalized workout routine for someone looking to improve cardiovascular endurance and prefers outdoor activities.\"\n",
    "print(llm(text))"
   ]
  },
  {
   "cell_type": "code",
   "execution_count": null,
   "id": "3311298c-f24f-4b8b-a64f-09fe44cbd7b7",
   "metadata": {},
   "outputs": [],
   "source": []
  }
 ],
 "metadata": {
  "kernelspec": {
   "display_name": "Python 3 (ipykernel)",
   "language": "python",
   "name": "python3"
  },
  "language_info": {
   "codemirror_mode": {
    "name": "ipython",
    "version": 3
   },
   "file_extension": ".py",
   "mimetype": "text/x-python",
   "name": "python",
   "nbconvert_exporter": "python",
   "pygments_lexer": "ipython3",
   "version": "3.12.3"
  }
 },
 "nbformat": 4,
 "nbformat_minor": 5
}
