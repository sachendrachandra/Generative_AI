{
 "cells": [
  {
   "cell_type": "code",
   "execution_count": 1,
   "id": "2dc9c881-3658-4eb6-9094-afaa4e445b17",
   "metadata": {},
   "outputs": [
    {
     "data": {
      "text/plain": [
       "True"
      ]
     },
     "execution_count": 1,
     "metadata": {},
     "output_type": "execute_result"
    }
   ],
   "source": [
    "from dotenv import load_dotenv, dotenv_values\n",
    "import os\n",
    "\n",
    "# Load environment variables from .env file\n",
    "config = dotenv_values(\"C:/Users/SACHENDRA/Documents/Activeloop/.env\")\n",
    "load_dotenv(\"C:/Users/SACHENDRA/Documents/Activeloop/.env\")"
   ]
  },
  {
   "cell_type": "code",
   "execution_count": 2,
   "id": "7cb59482-1146-43a6-b260-c96c4f4a2cef",
   "metadata": {},
   "outputs": [],
   "source": [
    "'''\n",
    "This is the first output parser implemented by the LangChain team.\n",
    "While it can process multiple outputs, it only supports texts and does not provide options for other data types,\n",
    "such as lists or integers.\n",
    "It can be used when you want to receive one response from the model.\n",
    "For example, only one substitute word in the thesaurus application.\n",
    "'''\n",
    "\n",
    "from langchain.output_parsers import StructuredOutputParser, ResponseSchema\n",
    "\n",
    "response_schemas = [\n",
    "    ResponseSchema(name=\"words\", description=\"A substitue word based on context\"),\n",
    "    ResponseSchema(name=\"reasons\", description=\"the reasoning of why this word fits the context.\")\n",
    "]\n",
    "\n",
    "parser = StructuredOutputParser.from_response_schemas(response_schemas)"
   ]
  },
  {
   "cell_type": "code",
   "execution_count": 3,
   "id": "12197984-df5c-4325-b508-b8f9755ca9ed",
   "metadata": {},
   "outputs": [
    {
     "data": {
      "text/plain": [
       "'\\nThe above code demonstrates how to define a schema.\\nHowever, we are not going to go into details. \\nThis class has no advantage since the PydanticOutputParser class provides validation and more flexibility\\nfor more complex tasks, and the CommaSeparatedOutputParser option covers more straightforward applications.\\n'"
      ]
     },
     "execution_count": 3,
     "metadata": {},
     "output_type": "execute_result"
    }
   ],
   "source": [
    "'''\n",
    "The above code demonstrates how to define a schema.\n",
    "However, we are not going to go into details. \n",
    "This class has no advantage since the PydanticOutputParser class provides validation and more flexibility\n",
    "for more complex tasks, and the CommaSeparatedOutputParser option covers more straightforward applications.\n",
    "'''"
   ]
  },
  {
   "cell_type": "code",
   "execution_count": null,
   "id": "20809b74-35be-4cf9-a898-ef3bc91482da",
   "metadata": {},
   "outputs": [],
   "source": []
  }
 ],
 "metadata": {
  "kernelspec": {
   "display_name": "Python 3 (ipykernel)",
   "language": "python",
   "name": "python3"
  },
  "language_info": {
   "codemirror_mode": {
    "name": "ipython",
    "version": 3
   },
   "file_extension": ".py",
   "mimetype": "text/x-python",
   "name": "python",
   "nbconvert_exporter": "python",
   "pygments_lexer": "ipython3",
   "version": "3.12.3"
  }
 },
 "nbformat": 4,
 "nbformat_minor": 5
}
