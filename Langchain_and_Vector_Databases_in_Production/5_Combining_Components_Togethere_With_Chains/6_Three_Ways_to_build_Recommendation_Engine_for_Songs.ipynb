{
 "cells": [
  {
   "cell_type": "markdown",
   "id": "36a44e8c-9f35-40ba-9e51-795ed8ca94d3",
   "metadata": {},
   "source": [
    "\n",
    "Building a song recommendation engine using LangChain involves data collection, encoding, and matching. We scrape Disney song lyrics and gather their Spotify URLs. Using Activeloop Deep Lake Vector Database in LangChain, we convert the lyrics into embedded data with relevant metadata.\n",
    "\n",
    "For matching songs to user input, we convert both song lyrics and user inputs into a list of emotions with the help of the OpenAI model. These emotions are embedded and stored in Deep Lake. A similarity search is then conducted in the vector database based on these emotions to provide song recommendations.\n",
    "\n",
    "We filter out low-scoring matches and ensure the same song isn't recommended twice to add variation. Finally, we create a user-friendly interface using Streamlit and host it on Hugging Face Spaces."
   ]
  },
  {
   "cell_type": "markdown",
   "id": "f8294947-2bb5-4465-b4a8-5f3a918a6ba4",
   "metadata": {},
   "source": [
    "\"\"\"\n",
    "\n",
    "Clone this repo:\n",
    "https://github.com/FrancescoSaverioZuppichini/FairytaleDJ"
   ]
  },
  {
   "cell_type": "code",
   "execution_count": null,
   "id": "fe661c0b-f4a2-4c81-8099-12b76de06e85",
   "metadata": {},
   "outputs": [],
   "source": []
  }
 ],
 "metadata": {
  "kernelspec": {
   "display_name": "Python 3 (ipykernel)",
   "language": "python",
   "name": "python3"
  },
  "language_info": {
   "codemirror_mode": {
    "name": "ipython",
    "version": 3
   },
   "file_extension": ".py",
   "mimetype": "text/x-python",
   "name": "python",
   "nbconvert_exporter": "python",
   "pygments_lexer": "ipython3",
   "version": "3.12.3"
  }
 },
 "nbformat": 4,
 "nbformat_minor": 5
}
